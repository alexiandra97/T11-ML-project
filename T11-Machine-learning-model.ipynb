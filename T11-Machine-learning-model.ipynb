{
 "cells": [
  {
   "cell_type": "markdown",
   "id": "e13e9d8d",
   "metadata": {},
   "source": [
    "# TOP11 Machine learning model (JobFair Challenge)\n",
    "\n",
    "## 1. Problem definition        \n",
    "   We have to predict what percentage of users will return to the game day after the registration. This KPI is officially known as **Retention Day 1**. \n",
    "## 2. Data\n",
    "   We've got <u> time series data </u> from 02.06.2022. to 15.09.2022. For data from 31.08.2022 to 15.09.2022. we have to predict tagret variable (**returned**).\n",
    "## 3. Evaluation\n",
    "   Our result will be evaluated by **RMSE**(Root Mean Squared Error) for the period after 31.08.2022. So we will definitely use the regression model. We're going to make validation set to check our model. Less RMSE = better model\n",
    "## 4. Features\n",
    "        Features are Key Performance Indicators (KPI):\n",
    "        registration_type:\n",
    "                            1 = Fresh Registration \n",
    "                            2 = Inactive ReRegistration\n",
    "                            3 = Active ReRegistration\n",
    "       played_t11_before:\n",
    "                           0 = data not provided\n",
    "                           1 = user says he played T11 before\n",
    "                           2 = user says he didn't play T11 before\n",
    "       registration_channel: Label that marks if the new user was targeted by any T11 marketing campaigns, before installing the game.\n",
    "                           0 = data not provided\n",
    "                           1 = Organic\n",
    "                           2 = Paid             \n",
    "      network_type:\n",
    "                    0 = data not provided\n",
    "                    1 = WIFI\n",
    "                    2 = LTE (4G)\n",
    "                    3 = HSPAP (3G)               \n",
    "      device_tier: Our internal label for the quality of the device used for playing the game\n",
    "                    0 = data not provided\n",
    "                    1 = LowestEnd\n",
    "                    2 = LowEnd\n",
    "                    3 = MidEnd\n",
    "                    4 = HighEnd\n",
    "      device_type:\n",
    "                     1 = Phone\n",
    "                     2 = Tablet\n",
    "      device_manufacturer:\n",
    "                        0 = Other + data not provided\n",
    "                        1 = Samsung\n",
    "                        2 = Xiaomi\n",
    "                        3 = OPPO\n",
    "                        4 = Huawei\n",
    "                        5 = Motorola\n",
    "                        6 = Vivo\n",
    "                        7 = Realme\n",
    "                        8 = INFINIX MOBILITY LIMITED\n",
    "                        9 = LGE\n",
    "                        10 = TECNO MOBILE LIMITED\n",
    "                        11 = Lenovo\n",
    "                        12 = OnePlus\n",
    "                        13 = TCL\n",
    "        screen_dpi\n",
    "        device_memory_size_mb\n",
    "        device_model\n",
    "        os_version\n",
    "        registrations\n",
    "\n",
    "## 5. Model\n",
    "   We're going to use the regression model. We'll start with RandomForestRegressor and choose one with the best score in the end.      \n",
    "## 6. Experiments   \n",
    "   We're trying different models, manually parameters tuning and different way to fill missing values:\n",
    "   https://scikit-learn.org/stable/tutorial/machine_learning_map/index.html"
   ]
  },
  {
   "cell_type": "markdown",
   "id": "5e7c559b",
   "metadata": {},
   "source": [
    "# Import libraries"
   ]
  },
  {
   "cell_type": "code",
   "execution_count": 2,
   "id": "fad49e61",
   "metadata": {},
   "outputs": [
    {
     "name": "stdout",
     "output_type": "stream",
     "text": [
      "Collecting seaborn\n",
      "  Downloading seaborn-0.12.2-py3-none-any.whl (293 kB)\n",
      "     ---------------------------------------- 0.0/293.3 kB ? eta -:--:--\n",
      "     --------------- ---------------------- 122.9/293.3 kB 3.6 MB/s eta 0:00:01\n",
      "     -------------------------------------- 293.3/293.3 kB 3.6 MB/s eta 0:00:00\n",
      "Requirement already satisfied: matplotlib!=3.6.1,>=3.1 in c:\\users\\user\\desktop\\top11\\env\\lib\\site-packages (from seaborn) (3.7.1)\n",
      "Requirement already satisfied: pandas>=0.25 in c:\\users\\user\\desktop\\top11\\env\\lib\\site-packages (from seaborn) (1.4.4)\n",
      "Requirement already satisfied: numpy!=1.24.0,>=1.17 in c:\\users\\user\\desktop\\top11\\env\\lib\\site-packages (from seaborn) (1.23.3)\n",
      "Requirement already satisfied: contourpy>=1.0.1 in c:\\users\\user\\desktop\\top11\\env\\lib\\site-packages (from matplotlib!=3.6.1,>=3.1->seaborn) (1.0.5)\n",
      "Requirement already satisfied: kiwisolver>=1.0.1 in c:\\users\\user\\desktop\\top11\\env\\lib\\site-packages (from matplotlib!=3.6.1,>=3.1->seaborn) (1.4.4)\n",
      "Requirement already satisfied: fonttools>=4.22.0 in c:\\users\\user\\desktop\\top11\\env\\lib\\site-packages (from matplotlib!=3.6.1,>=3.1->seaborn) (4.25.0)\n",
      "Requirement already satisfied: cycler>=0.10 in c:\\users\\user\\desktop\\top11\\env\\lib\\site-packages (from matplotlib!=3.6.1,>=3.1->seaborn) (0.11.0)\n",
      "Requirement already satisfied: packaging>=20.0 in c:\\users\\user\\desktop\\top11\\env\\lib\\site-packages (from matplotlib!=3.6.1,>=3.1->seaborn) (23.0)\n",
      "Requirement already satisfied: pyparsing>=2.3.1 in c:\\users\\user\\desktop\\top11\\env\\lib\\site-packages (from matplotlib!=3.6.1,>=3.1->seaborn) (3.0.9)\n",
      "Requirement already satisfied: pillow>=6.2.0 in c:\\users\\user\\desktop\\top11\\env\\lib\\site-packages (from matplotlib!=3.6.1,>=3.1->seaborn) (9.4.0)\n",
      "Requirement already satisfied: python-dateutil>=2.7 in c:\\users\\user\\desktop\\top11\\env\\lib\\site-packages (from matplotlib!=3.6.1,>=3.1->seaborn) (2.8.2)\n",
      "Requirement already satisfied: pytz>=2020.1 in c:\\users\\user\\desktop\\top11\\env\\lib\\site-packages (from pandas>=0.25->seaborn) (2022.7)\n",
      "Requirement already satisfied: six>=1.5 in c:\\users\\user\\desktop\\top11\\env\\lib\\site-packages (from python-dateutil>=2.7->matplotlib!=3.6.1,>=3.1->seaborn) (1.16.0)\n",
      "Installing collected packages: seaborn\n",
      "Successfully installed seaborn-0.12.2\n",
      "Note: you may need to restart the kernel to use updated packages.\n"
     ]
    }
   ],
   "source": [
    "%pip install seaborn"
   ]
  },
  {
   "cell_type": "code",
   "execution_count": 1,
   "id": "10090acf",
   "metadata": {},
   "outputs": [],
   "source": [
    "import pandas as pd\n",
    "import numpy as np\n",
    "import matplotlib.pyplot as plt\n",
    "import sklearn\n",
    "import seaborn as sns\n",
    "%matplotlib inline"
   ]
  },
  {
   "cell_type": "markdown",
   "id": "8adb3d32",
   "metadata": {},
   "source": [
    "# Import data"
   ]
  },
  {
   "cell_type": "code",
   "execution_count": 2,
   "id": "0ecb9323",
   "metadata": {},
   "outputs": [],
   "source": [
    "df = pd.read_csv(\"2. job_fair_retention_prediction_2022_training.csv\", parse_dates=True)"
   ]
  },
  {
   "cell_type": "code",
   "execution_count": 3,
   "id": "5383edec",
   "metadata": {},
   "outputs": [
    {
     "name": "stdout",
     "output_type": "stream",
     "text": [
      "<class 'pandas.core.frame.DataFrame'>\n",
      "RangeIndex: 342332 entries, 0 to 342331\n",
      "Data columns (total 14 columns):\n",
      " #   Column                 Non-Null Count   Dtype  \n",
      "---  ------                 --------------   -----  \n",
      " 0   date                   342332 non-null  object \n",
      " 1   registration_type      342332 non-null  int64  \n",
      " 2   played_t11_before      342332 non-null  int64  \n",
      " 3   registration_channel   342332 non-null  int64  \n",
      " 4   network_type           342332 non-null  int64  \n",
      " 5   device_tier            342332 non-null  int64  \n",
      " 6   device_type            342332 non-null  int64  \n",
      " 7   device_manufacturer    342332 non-null  int64  \n",
      " 8   screen_dpi             340442 non-null  float64\n",
      " 9   device_memory_size_mb  340442 non-null  float64\n",
      " 10  device_model           340442 non-null  object \n",
      " 11  os_version             340442 non-null  object \n",
      " 12  registrations          342332 non-null  int64  \n",
      " 13  returned               342332 non-null  int64  \n",
      "dtypes: float64(2), int64(9), object(3)\n",
      "memory usage: 36.6+ MB\n"
     ]
    }
   ],
   "source": [
    "df.info()"
   ]
  },
  {
   "cell_type": "code",
   "execution_count": 4,
   "id": "afadffb0",
   "metadata": {},
   "outputs": [
    {
     "data": {
      "text/plain": [
       "date                        0\n",
       "registration_type           0\n",
       "played_t11_before           0\n",
       "registration_channel        0\n",
       "network_type                0\n",
       "device_tier                 0\n",
       "device_type                 0\n",
       "device_manufacturer         0\n",
       "screen_dpi               1890\n",
       "device_memory_size_mb    1890\n",
       "device_model             1890\n",
       "os_version               1890\n",
       "registrations               0\n",
       "returned                    0\n",
       "dtype: int64"
      ]
     },
     "execution_count": 4,
     "metadata": {},
     "output_type": "execute_result"
    }
   ],
   "source": [
    "df.isnull().sum()"
   ]
  },
  {
   "cell_type": "code",
   "execution_count": 5,
   "id": "5af7db7e",
   "metadata": {},
   "outputs": [
    {
     "data": {
      "text/html": [
       "<div>\n",
       "<style scoped>\n",
       "    .dataframe tbody tr th:only-of-type {\n",
       "        vertical-align: middle;\n",
       "    }\n",
       "\n",
       "    .dataframe tbody tr th {\n",
       "        vertical-align: top;\n",
       "    }\n",
       "\n",
       "    .dataframe thead th {\n",
       "        text-align: right;\n",
       "    }\n",
       "</style>\n",
       "<table border=\"1\" class=\"dataframe\">\n",
       "  <thead>\n",
       "    <tr style=\"text-align: right;\">\n",
       "      <th></th>\n",
       "      <th>registration_type</th>\n",
       "      <th>played_t11_before</th>\n",
       "      <th>registration_channel</th>\n",
       "      <th>network_type</th>\n",
       "      <th>device_tier</th>\n",
       "      <th>device_type</th>\n",
       "      <th>device_manufacturer</th>\n",
       "      <th>screen_dpi</th>\n",
       "      <th>device_memory_size_mb</th>\n",
       "      <th>registrations</th>\n",
       "      <th>returned</th>\n",
       "    </tr>\n",
       "  </thead>\n",
       "  <tbody>\n",
       "    <tr>\n",
       "      <th>count</th>\n",
       "      <td>342332.000000</td>\n",
       "      <td>342332.000000</td>\n",
       "      <td>342332.000000</td>\n",
       "      <td>342332.000000</td>\n",
       "      <td>342332.000000</td>\n",
       "      <td>342332.000000</td>\n",
       "      <td>342332.000000</td>\n",
       "      <td>340442.000000</td>\n",
       "      <td>340442.000000</td>\n",
       "      <td>342332.000000</td>\n",
       "      <td>342332.000000</td>\n",
       "    </tr>\n",
       "    <tr>\n",
       "      <th>mean</th>\n",
       "      <td>1.577337</td>\n",
       "      <td>1.028610</td>\n",
       "      <td>1.538071</td>\n",
       "      <td>1.272867</td>\n",
       "      <td>2.927082</td>\n",
       "      <td>1.105301</td>\n",
       "      <td>2.326283</td>\n",
       "      <td>359.056964</td>\n",
       "      <td>3996.317517</td>\n",
       "      <td>1.567829</td>\n",
       "      <td>0.406874</td>\n",
       "    </tr>\n",
       "    <tr>\n",
       "      <th>std</th>\n",
       "      <td>0.804206</td>\n",
       "      <td>0.892683</td>\n",
       "      <td>0.566776</td>\n",
       "      <td>0.573181</td>\n",
       "      <td>1.028048</td>\n",
       "      <td>0.306942</td>\n",
       "      <td>2.551360</td>\n",
       "      <td>88.342857</td>\n",
       "      <td>1896.398925</td>\n",
       "      <td>1.651584</td>\n",
       "      <td>0.716612</td>\n",
       "    </tr>\n",
       "    <tr>\n",
       "      <th>min</th>\n",
       "      <td>1.000000</td>\n",
       "      <td>0.000000</td>\n",
       "      <td>0.000000</td>\n",
       "      <td>0.000000</td>\n",
       "      <td>0.000000</td>\n",
       "      <td>1.000000</td>\n",
       "      <td>0.000000</td>\n",
       "      <td>80.000000</td>\n",
       "      <td>452.000000</td>\n",
       "      <td>1.000000</td>\n",
       "      <td>0.000000</td>\n",
       "    </tr>\n",
       "    <tr>\n",
       "      <th>25%</th>\n",
       "      <td>1.000000</td>\n",
       "      <td>0.000000</td>\n",
       "      <td>1.000000</td>\n",
       "      <td>1.000000</td>\n",
       "      <td>2.000000</td>\n",
       "      <td>1.000000</td>\n",
       "      <td>1.000000</td>\n",
       "      <td>315.000000</td>\n",
       "      <td>2789.000000</td>\n",
       "      <td>1.000000</td>\n",
       "      <td>0.000000</td>\n",
       "    </tr>\n",
       "    <tr>\n",
       "      <th>50%</th>\n",
       "      <td>1.000000</td>\n",
       "      <td>1.000000</td>\n",
       "      <td>2.000000</td>\n",
       "      <td>1.000000</td>\n",
       "      <td>3.000000</td>\n",
       "      <td>1.000000</td>\n",
       "      <td>2.000000</td>\n",
       "      <td>320.000000</td>\n",
       "      <td>3680.000000</td>\n",
       "      <td>1.000000</td>\n",
       "      <td>0.000000</td>\n",
       "    </tr>\n",
       "    <tr>\n",
       "      <th>75%</th>\n",
       "      <td>2.000000</td>\n",
       "      <td>2.000000</td>\n",
       "      <td>2.000000</td>\n",
       "      <td>2.000000</td>\n",
       "      <td>4.000000</td>\n",
       "      <td>1.000000</td>\n",
       "      <td>3.000000</td>\n",
       "      <td>440.000000</td>\n",
       "      <td>5572.000000</td>\n",
       "      <td>1.000000</td>\n",
       "      <td>1.000000</td>\n",
       "    </tr>\n",
       "    <tr>\n",
       "      <th>max</th>\n",
       "      <td>3.000000</td>\n",
       "      <td>2.000000</td>\n",
       "      <td>2.000000</td>\n",
       "      <td>3.000000</td>\n",
       "      <td>4.000000</td>\n",
       "      <td>2.000000</td>\n",
       "      <td>13.000000</td>\n",
       "      <td>999.000000</td>\n",
       "      <td>17205.000000</td>\n",
       "      <td>70.000000</td>\n",
       "      <td>22.000000</td>\n",
       "    </tr>\n",
       "  </tbody>\n",
       "</table>\n",
       "</div>"
      ],
      "text/plain": [
       "       registration_type  played_t11_before  registration_channel  \\\n",
       "count      342332.000000      342332.000000         342332.000000   \n",
       "mean            1.577337           1.028610              1.538071   \n",
       "std             0.804206           0.892683              0.566776   \n",
       "min             1.000000           0.000000              0.000000   \n",
       "25%             1.000000           0.000000              1.000000   \n",
       "50%             1.000000           1.000000              2.000000   \n",
       "75%             2.000000           2.000000              2.000000   \n",
       "max             3.000000           2.000000              2.000000   \n",
       "\n",
       "        network_type    device_tier    device_type  device_manufacturer  \\\n",
       "count  342332.000000  342332.000000  342332.000000        342332.000000   \n",
       "mean        1.272867       2.927082       1.105301             2.326283   \n",
       "std         0.573181       1.028048       0.306942             2.551360   \n",
       "min         0.000000       0.000000       1.000000             0.000000   \n",
       "25%         1.000000       2.000000       1.000000             1.000000   \n",
       "50%         1.000000       3.000000       1.000000             2.000000   \n",
       "75%         2.000000       4.000000       1.000000             3.000000   \n",
       "max         3.000000       4.000000       2.000000            13.000000   \n",
       "\n",
       "          screen_dpi  device_memory_size_mb  registrations       returned  \n",
       "count  340442.000000          340442.000000  342332.000000  342332.000000  \n",
       "mean      359.056964            3996.317517       1.567829       0.406874  \n",
       "std        88.342857            1896.398925       1.651584       0.716612  \n",
       "min        80.000000             452.000000       1.000000       0.000000  \n",
       "25%       315.000000            2789.000000       1.000000       0.000000  \n",
       "50%       320.000000            3680.000000       1.000000       0.000000  \n",
       "75%       440.000000            5572.000000       1.000000       1.000000  \n",
       "max       999.000000           17205.000000      70.000000      22.000000  "
      ]
     },
     "execution_count": 5,
     "metadata": {},
     "output_type": "execute_result"
    }
   ],
   "source": [
    "df.describe()"
   ]
  },
  {
   "cell_type": "code",
   "execution_count": 6,
   "id": "0d8ff281",
   "metadata": {},
   "outputs": [
    {
     "data": {
      "text/html": [
       "<div>\n",
       "<style scoped>\n",
       "    .dataframe tbody tr th:only-of-type {\n",
       "        vertical-align: middle;\n",
       "    }\n",
       "\n",
       "    .dataframe tbody tr th {\n",
       "        vertical-align: top;\n",
       "    }\n",
       "\n",
       "    .dataframe thead th {\n",
       "        text-align: right;\n",
       "    }\n",
       "</style>\n",
       "<table border=\"1\" class=\"dataframe\">\n",
       "  <thead>\n",
       "    <tr style=\"text-align: right;\">\n",
       "      <th></th>\n",
       "      <th>date</th>\n",
       "      <th>registration_type</th>\n",
       "      <th>played_t11_before</th>\n",
       "      <th>registration_channel</th>\n",
       "      <th>network_type</th>\n",
       "      <th>device_tier</th>\n",
       "      <th>device_type</th>\n",
       "      <th>device_manufacturer</th>\n",
       "      <th>screen_dpi</th>\n",
       "      <th>device_memory_size_mb</th>\n",
       "      <th>device_model</th>\n",
       "      <th>os_version</th>\n",
       "      <th>registrations</th>\n",
       "      <th>returned</th>\n",
       "    </tr>\n",
       "  </thead>\n",
       "  <tbody>\n",
       "    <tr>\n",
       "      <th>0</th>\n",
       "      <td>2022-06-02</td>\n",
       "      <td>3</td>\n",
       "      <td>0</td>\n",
       "      <td>1</td>\n",
       "      <td>1</td>\n",
       "      <td>3</td>\n",
       "      <td>1</td>\n",
       "      <td>2</td>\n",
       "      <td>320.0</td>\n",
       "      <td>2820.0</td>\n",
       "      <td>Xiaomi Redmi 7</td>\n",
       "      <td>Android OS 10 / API-29</td>\n",
       "      <td>1</td>\n",
       "      <td>1</td>\n",
       "    </tr>\n",
       "    <tr>\n",
       "      <th>1</th>\n",
       "      <td>2022-06-02</td>\n",
       "      <td>1</td>\n",
       "      <td>2</td>\n",
       "      <td>1</td>\n",
       "      <td>1</td>\n",
       "      <td>4</td>\n",
       "      <td>1</td>\n",
       "      <td>0</td>\n",
       "      <td>480.0</td>\n",
       "      <td>2740.0</td>\n",
       "      <td>OMIX OMIX X300</td>\n",
       "      <td>Android OS 11 / API-30</td>\n",
       "      <td>1</td>\n",
       "      <td>0</td>\n",
       "    </tr>\n",
       "    <tr>\n",
       "      <th>2</th>\n",
       "      <td>2022-06-02</td>\n",
       "      <td>3</td>\n",
       "      <td>0</td>\n",
       "      <td>1</td>\n",
       "      <td>1</td>\n",
       "      <td>3</td>\n",
       "      <td>1</td>\n",
       "      <td>1</td>\n",
       "      <td>315.0</td>\n",
       "      <td>3571.0</td>\n",
       "      <td>samsung SM-M215F</td>\n",
       "      <td>Android OS 11 / API-30</td>\n",
       "      <td>1</td>\n",
       "      <td>0</td>\n",
       "    </tr>\n",
       "    <tr>\n",
       "      <th>3</th>\n",
       "      <td>2022-06-02</td>\n",
       "      <td>1</td>\n",
       "      <td>2</td>\n",
       "      <td>2</td>\n",
       "      <td>1</td>\n",
       "      <td>2</td>\n",
       "      <td>1</td>\n",
       "      <td>10</td>\n",
       "      <td>320.0</td>\n",
       "      <td>3774.0</td>\n",
       "      <td>TECNO MOBILE LIMITED TECNO KC3</td>\n",
       "      <td>Android OS 9 / API-28</td>\n",
       "      <td>1</td>\n",
       "      <td>1</td>\n",
       "    </tr>\n",
       "    <tr>\n",
       "      <th>4</th>\n",
       "      <td>2022-06-02</td>\n",
       "      <td>1</td>\n",
       "      <td>2</td>\n",
       "      <td>2</td>\n",
       "      <td>1</td>\n",
       "      <td>1</td>\n",
       "      <td>1</td>\n",
       "      <td>1</td>\n",
       "      <td>320.0</td>\n",
       "      <td>889.0</td>\n",
       "      <td>samsung SM-A013G</td>\n",
       "      <td>Android OS 10 / API-29</td>\n",
       "      <td>1</td>\n",
       "      <td>0</td>\n",
       "    </tr>\n",
       "  </tbody>\n",
       "</table>\n",
       "</div>"
      ],
      "text/plain": [
       "         date  registration_type  played_t11_before  registration_channel  \\\n",
       "0  2022-06-02                  3                  0                     1   \n",
       "1  2022-06-02                  1                  2                     1   \n",
       "2  2022-06-02                  3                  0                     1   \n",
       "3  2022-06-02                  1                  2                     2   \n",
       "4  2022-06-02                  1                  2                     2   \n",
       "\n",
       "   network_type  device_tier  device_type  device_manufacturer  screen_dpi  \\\n",
       "0             1            3            1                    2       320.0   \n",
       "1             1            4            1                    0       480.0   \n",
       "2             1            3            1                    1       315.0   \n",
       "3             1            2            1                   10       320.0   \n",
       "4             1            1            1                    1       320.0   \n",
       "\n",
       "   device_memory_size_mb                    device_model  \\\n",
       "0                 2820.0                  Xiaomi Redmi 7   \n",
       "1                 2740.0                  OMIX OMIX X300   \n",
       "2                 3571.0                samsung SM-M215F   \n",
       "3                 3774.0  TECNO MOBILE LIMITED TECNO KC3   \n",
       "4                  889.0                samsung SM-A013G   \n",
       "\n",
       "               os_version  registrations  returned  \n",
       "0  Android OS 10 / API-29              1         1  \n",
       "1  Android OS 11 / API-30              1         0  \n",
       "2  Android OS 11 / API-30              1         0  \n",
       "3   Android OS 9 / API-28              1         1  \n",
       "4  Android OS 10 / API-29              1         0  "
      ]
     },
     "execution_count": 6,
     "metadata": {},
     "output_type": "execute_result"
    }
   ],
   "source": [
    "df.head()"
   ]
  },
  {
   "cell_type": "markdown",
   "id": "55570b1a",
   "metadata": {},
   "source": [
    "* We mustn't shuffle data because we have time series data and some date are in more than one rows\n",
    "* Our dataset has missing values and non numeric values."
   ]
  },
  {
   "cell_type": "markdown",
   "id": "6d93c9d1",
   "metadata": {},
   "source": [
    "# Exploratory data analysis (EDA)"
   ]
  },
  {
   "cell_type": "code",
   "execution_count": 7,
   "id": "8b917015",
   "metadata": {},
   "outputs": [
    {
     "data": {
      "text/plain": [
       "320.0"
      ]
     },
     "execution_count": 7,
     "metadata": {},
     "output_type": "execute_result"
    }
   ],
   "source": [
    "df.screen_dpi.median()"
   ]
  },
  {
   "cell_type": "code",
   "execution_count": 8,
   "id": "7333c8f0",
   "metadata": {},
   "outputs": [
    {
     "data": {
      "text/plain": [
       "0    320.0\n",
       "Name: screen_dpi, dtype: float64"
      ]
     },
     "execution_count": 8,
     "metadata": {},
     "output_type": "execute_result"
    }
   ],
   "source": [
    "df.screen_dpi.mode()"
   ]
  },
  {
   "cell_type": "code",
   "execution_count": 9,
   "id": "37d7b23b",
   "metadata": {},
   "outputs": [
    {
     "data": {
      "text/plain": [
       "Android OS 11 / API-30       104801\n",
       "Android OS 10 / API-29        80577\n",
       "Android OS 12 / API-31        54064\n",
       "Android OS 9 / API-28         35797\n",
       "Android OS 8.1.0 / API-27     16038\n",
       "                              ...  \n",
       "Android OS 5.0 / API-19           1\n",
       "Android OS 8.1.1 / API-22         1\n",
       "Android OS 4.4 / API-19           1\n",
       "Android OS 7.0.0 / API-22         1\n",
       "Android OS 10.0 / API-28          1\n",
       "Name: os_version, Length: 79, dtype: int64"
      ]
     },
     "execution_count": 9,
     "metadata": {},
     "output_type": "execute_result"
    }
   ],
   "source": [
    "df.os_version.value_counts()"
   ]
  },
  {
   "cell_type": "code",
   "execution_count": 10,
   "id": "a6eae2eb",
   "metadata": {},
   "outputs": [
    {
     "data": {
      "text/html": [
       "<div>\n",
       "<style scoped>\n",
       "    .dataframe tbody tr th:only-of-type {\n",
       "        vertical-align: middle;\n",
       "    }\n",
       "\n",
       "    .dataframe tbody tr th {\n",
       "        vertical-align: top;\n",
       "    }\n",
       "\n",
       "    .dataframe thead th {\n",
       "        text-align: right;\n",
       "    }\n",
       "</style>\n",
       "<table border=\"1\" class=\"dataframe\">\n",
       "  <thead>\n",
       "    <tr style=\"text-align: right;\">\n",
       "      <th></th>\n",
       "      <th>date</th>\n",
       "      <th>registration_type</th>\n",
       "      <th>played_t11_before</th>\n",
       "      <th>registration_channel</th>\n",
       "      <th>network_type</th>\n",
       "      <th>device_tier</th>\n",
       "      <th>device_type</th>\n",
       "      <th>device_manufacturer</th>\n",
       "      <th>screen_dpi</th>\n",
       "      <th>device_memory_size_mb</th>\n",
       "      <th>device_model</th>\n",
       "      <th>os_version</th>\n",
       "      <th>registrations</th>\n",
       "      <th>returned</th>\n",
       "    </tr>\n",
       "  </thead>\n",
       "  <tbody>\n",
       "    <tr>\n",
       "      <th>342327</th>\n",
       "      <td>2022-09-15</td>\n",
       "      <td>1</td>\n",
       "      <td>1</td>\n",
       "      <td>2</td>\n",
       "      <td>2</td>\n",
       "      <td>2</td>\n",
       "      <td>1</td>\n",
       "      <td>11</td>\n",
       "      <td>480.0</td>\n",
       "      <td>2848.0</td>\n",
       "      <td>LENOVO Lenovo K53a48</td>\n",
       "      <td>Android OS 7.0 / API-24</td>\n",
       "      <td>1</td>\n",
       "      <td>0</td>\n",
       "    </tr>\n",
       "    <tr>\n",
       "      <th>342328</th>\n",
       "      <td>2022-09-15</td>\n",
       "      <td>2</td>\n",
       "      <td>0</td>\n",
       "      <td>2</td>\n",
       "      <td>1</td>\n",
       "      <td>4</td>\n",
       "      <td>1</td>\n",
       "      <td>1</td>\n",
       "      <td>420.0</td>\n",
       "      <td>7443.0</td>\n",
       "      <td>samsung SM-N985F</td>\n",
       "      <td>Android OS 12 / API-31</td>\n",
       "      <td>3</td>\n",
       "      <td>0</td>\n",
       "    </tr>\n",
       "    <tr>\n",
       "      <th>342329</th>\n",
       "      <td>2022-09-15</td>\n",
       "      <td>1</td>\n",
       "      <td>1</td>\n",
       "      <td>1</td>\n",
       "      <td>1</td>\n",
       "      <td>3</td>\n",
       "      <td>1</td>\n",
       "      <td>4</td>\n",
       "      <td>320.0</td>\n",
       "      <td>3688.0</td>\n",
       "      <td>HUAWEI MAR-LX1A</td>\n",
       "      <td>Android OS 10 / API-29</td>\n",
       "      <td>1</td>\n",
       "      <td>0</td>\n",
       "    </tr>\n",
       "    <tr>\n",
       "      <th>342330</th>\n",
       "      <td>2022-09-15</td>\n",
       "      <td>1</td>\n",
       "      <td>1</td>\n",
       "      <td>1</td>\n",
       "      <td>1</td>\n",
       "      <td>4</td>\n",
       "      <td>1</td>\n",
       "      <td>0</td>\n",
       "      <td>480.0</td>\n",
       "      <td>3748.0</td>\n",
       "      <td>OMIX OMIX X500</td>\n",
       "      <td>Android OS 11 / API-30</td>\n",
       "      <td>2</td>\n",
       "      <td>0</td>\n",
       "    </tr>\n",
       "    <tr>\n",
       "      <th>342331</th>\n",
       "      <td>2022-09-15</td>\n",
       "      <td>1</td>\n",
       "      <td>1</td>\n",
       "      <td>2</td>\n",
       "      <td>2</td>\n",
       "      <td>4</td>\n",
       "      <td>1</td>\n",
       "      <td>2</td>\n",
       "      <td>440.0</td>\n",
       "      <td>5613.0</td>\n",
       "      <td>Xiaomi M2101K7BG</td>\n",
       "      <td>Android OS 11 / API-30</td>\n",
       "      <td>2</td>\n",
       "      <td>0</td>\n",
       "    </tr>\n",
       "  </tbody>\n",
       "</table>\n",
       "</div>"
      ],
      "text/plain": [
       "              date  registration_type  played_t11_before  \\\n",
       "342327  2022-09-15                  1                  1   \n",
       "342328  2022-09-15                  2                  0   \n",
       "342329  2022-09-15                  1                  1   \n",
       "342330  2022-09-15                  1                  1   \n",
       "342331  2022-09-15                  1                  1   \n",
       "\n",
       "        registration_channel  network_type  device_tier  device_type  \\\n",
       "342327                     2             2            2            1   \n",
       "342328                     2             1            4            1   \n",
       "342329                     1             1            3            1   \n",
       "342330                     1             1            4            1   \n",
       "342331                     2             2            4            1   \n",
       "\n",
       "        device_manufacturer  screen_dpi  device_memory_size_mb  \\\n",
       "342327                   11       480.0                 2848.0   \n",
       "342328                    1       420.0                 7443.0   \n",
       "342329                    4       320.0                 3688.0   \n",
       "342330                    0       480.0                 3748.0   \n",
       "342331                    2       440.0                 5613.0   \n",
       "\n",
       "                device_model               os_version  registrations  returned  \n",
       "342327  LENOVO Lenovo K53a48  Android OS 7.0 / API-24              1         0  \n",
       "342328      samsung SM-N985F   Android OS 12 / API-31              3         0  \n",
       "342329       HUAWEI MAR-LX1A   Android OS 10 / API-29              1         0  \n",
       "342330        OMIX OMIX X500   Android OS 11 / API-30              2         0  \n",
       "342331      Xiaomi M2101K7BG   Android OS 11 / API-30              2         0  "
      ]
     },
     "execution_count": 10,
     "metadata": {},
     "output_type": "execute_result"
    }
   ],
   "source": [
    "df.tail()"
   ]
  },
  {
   "cell_type": "code",
   "execution_count": 11,
   "id": "657e0c98",
   "metadata": {},
   "outputs": [
    {
     "data": {
      "text/plain": [
       "Xiaomi Redmi Note 8 Pro    7380\n",
       "Xiaomi Redmi Note 8        6643\n",
       "samsung SM-G610F           5001\n",
       "Xiaomi M2003J15SC          4735\n",
       "Xiaomi Redmi Note 9 Pro    4050\n",
       "                           ... \n",
       "samsung SM-J410G              1\n",
       "LEFE Blade X9                 1\n",
       "OnePlus IV2201                1\n",
       "SNCOIA QT19101                1\n",
       "HUAWEI VKY-AL00               1\n",
       "Name: device_model, Length: 3236, dtype: int64"
      ]
     },
     "execution_count": 11,
     "metadata": {},
     "output_type": "execute_result"
    }
   ],
   "source": [
    "df.device_model.value_counts()"
   ]
  },
  {
   "cell_type": "code",
   "execution_count": 12,
   "id": "df5f5d5a",
   "metadata": {},
   "outputs": [
    {
     "data": {
      "text/plain": [
       "0    3679.0\n",
       "Name: device_memory_size_mb, dtype: float64"
      ]
     },
     "execution_count": 12,
     "metadata": {},
     "output_type": "execute_result"
    }
   ],
   "source": [
    "df.device_memory_size_mb.mode()"
   ]
  },
  {
   "cell_type": "code",
   "execution_count": 13,
   "id": "8c8e0530",
   "metadata": {},
   "outputs": [
    {
     "data": {
      "text/plain": [
       "3680.0"
      ]
     },
     "execution_count": 13,
     "metadata": {},
     "output_type": "execute_result"
    }
   ],
   "source": [
    "df.device_memory_size_mb.median()"
   ]
  },
  {
   "cell_type": "code",
   "execution_count": 25,
   "id": "67dc072c",
   "metadata": {},
   "outputs": [
    {
     "data": {
      "text/plain": [
       "<Axes: >"
      ]
     },
     "execution_count": 25,
     "metadata": {},
     "output_type": "execute_result"
    },
    {
     "data": {
      "image/png": "[encoded data removed]",
      "text/plain": [
       "<Figure size 640x480 with 2 Axes>"
      ]
     },
     "metadata": {},
     "output_type": "display_data"
    }
   ],
   "source": [
    "correlation = df.corr()\n",
    "sns.heatmap(correlation, linecolor='white', cmap =\"Blues\")"
   ]
  },
  {
   "cell_type": "markdown",
   "id": "86991cc5",
   "metadata": {},
   "source": [
    " * The missing values in columns 'device_memory_size' and 'screen_dpi' we are going to fill up with median value.\n",
    " * Rows with missing values in 'device_model' and 'os_version', we are going to delete, because I am not sure how it will affect on result if I fill it up with the most common values.\n",
    " * We have enough data, so we know that for machine learning is better to have more data but firstly, I will try in this way."
   ]
  },
  {
   "cell_type": "markdown",
   "id": "70853140",
   "metadata": {},
   "source": [
    "## Fill missing data"
   ]
  },
  {
   "cell_type": "markdown",
   "id": "3204ea1e",
   "metadata": {},
   "source": [
    "### 'Device_memory_size_mb'"
   ]
  },
  {
   "cell_type": "code",
   "execution_count": 26,
   "id": "a6f20896",
   "metadata": {},
   "outputs": [],
   "source": [
    "df['device_memory_size_mb'] = df['device_memory_size_mb'].fillna(df['device_memory_size_mb'].median())\n"
   ]
  },
  {
   "cell_type": "markdown",
   "id": "a5a5faac",
   "metadata": {},
   "source": [
    "### 'Screen_dpi'"
   ]
  },
  {
   "cell_type": "code",
   "execution_count": 27,
   "id": "b0f89373",
   "metadata": {},
   "outputs": [],
   "source": [
    "df['screen_dpi'] = df['screen_dpi'].fillna(df['screen_dpi'].median())\n"
   ]
  },
  {
   "cell_type": "code",
   "execution_count": 28,
   "id": "60f28082",
   "metadata": {},
   "outputs": [],
   "source": [
    "df.isna().sum()\n",
    "df2 = df.copy()"
   ]
  },
  {
   "cell_type": "code",
   "execution_count": 29,
   "id": "1df2073b",
   "metadata": {},
   "outputs": [],
   "source": [
    "df.dropna(axis=0, how='any', inplace=True)\n"
   ]
  },
  {
   "cell_type": "markdown",
   "id": "5cd9c561",
   "metadata": {},
   "source": [
    "* Try to fill it up with 'missing' for the experimentation"
   ]
  },
  {
   "cell_type": "code",
   "execution_count": 30,
   "id": "92394d5f",
   "metadata": {},
   "outputs": [],
   "source": [
    "df2['device_model'] = df2['device_model'].fillna(\"missing\")\n",
    "df2['os_version'] = df2['os_version'].fillna(\"missing\")"
   ]
  },
  {
   "cell_type": "code",
   "execution_count": 31,
   "id": "44e10471",
   "metadata": {},
   "outputs": [
    {
     "data": {
      "text/plain": [
       "(date                     0\n",
       " registration_type        0\n",
       " played_t11_before        0\n",
       " registration_channel     0\n",
       " network_type             0\n",
       " device_tier              0\n",
       " device_type              0\n",
       " device_manufacturer      0\n",
       " screen_dpi               0\n",
       " device_memory_size_mb    0\n",
       " device_model             0\n",
       " os_version               0\n",
       " registrations            0\n",
       " returned                 0\n",
       " dtype: int64,\n",
       " (342332, 14))"
      ]
     },
     "execution_count": 31,
     "metadata": {},
     "output_type": "execute_result"
    }
   ],
   "source": [
    "df2.isna().sum(), df2.shape"
   ]
  },
  {
   "cell_type": "code",
   "execution_count": 32,
   "id": "deb3a54d",
   "metadata": {},
   "outputs": [
    {
     "data": {
      "text/plain": [
       "(date                     0\n",
       " registration_type        0\n",
       " played_t11_before        0\n",
       " registration_channel     0\n",
       " network_type             0\n",
       " device_tier              0\n",
       " device_type              0\n",
       " device_manufacturer      0\n",
       " screen_dpi               0\n",
       " device_memory_size_mb    0\n",
       " device_model             0\n",
       " os_version               0\n",
       " registrations            0\n",
       " returned                 0\n",
       " dtype: int64,\n",
       " (340442, 14))"
      ]
     },
     "execution_count": 32,
     "metadata": {},
     "output_type": "execute_result"
    }
   ],
   "source": [
    "df.isnull().sum(), df.shape"
   ]
  },
  {
   "cell_type": "markdown",
   "id": "a272a8d4",
   "metadata": {},
   "source": [
    "## Make new features due to finding time patterns in data"
   ]
  },
  {
   "cell_type": "code",
   "execution_count": 33,
   "id": "05263d37",
   "metadata": {},
   "outputs": [],
   "source": [
    "df['month'] = pd.DatetimeIndex(df['date']).month\n",
    "df['day_of_week'] = pd.DatetimeIndex(df['date']).dayofweek\n",
    "df['day_of_month'] = pd.DatetimeIndex(df['date']).day"
   ]
  },
  {
   "cell_type": "code",
   "execution_count": 34,
   "id": "ff13dcbf",
   "metadata": {},
   "outputs": [],
   "source": [
    "df2['month'] = pd.DatetimeIndex(df2['date']).month\n",
    "df2['day_of_week'] = pd.DatetimeIndex(df2['date']).dayofweek\n",
    "df2['day_of_month'] = pd.DatetimeIndex(df2['date']).day"
   ]
  },
  {
   "cell_type": "code",
   "execution_count": 35,
   "id": "f3ff0ec3",
   "metadata": {},
   "outputs": [
    {
     "data": {
      "text/plain": [
       "(date                     0\n",
       " registration_type        0\n",
       " played_t11_before        0\n",
       " registration_channel     0\n",
       " network_type             0\n",
       " device_tier              0\n",
       " device_type              0\n",
       " device_manufacturer      0\n",
       " screen_dpi               0\n",
       " device_memory_size_mb    0\n",
       " device_model             0\n",
       " os_version               0\n",
       " registrations            0\n",
       " returned                 0\n",
       " month                    0\n",
       " day_of_week              0\n",
       " day_of_month             0\n",
       " dtype: int64,\n",
       " (340442, 17),\n",
       " (342332, 17))"
      ]
     },
     "execution_count": 35,
     "metadata": {},
     "output_type": "execute_result"
    }
   ],
   "source": [
    "df.isnull().sum(), df.shape, df2.shape"
   ]
  },
  {
   "cell_type": "code",
   "execution_count": 36,
   "id": "0c67d0c1",
   "metadata": {},
   "outputs": [
    {
     "data": {
      "text/html": [
       "<div>\n",
       "<style scoped>\n",
       "    .dataframe tbody tr th:only-of-type {\n",
       "        vertical-align: middle;\n",
       "    }\n",
       "\n",
       "    .dataframe tbody tr th {\n",
       "        vertical-align: top;\n",
       "    }\n",
       "\n",
       "    .dataframe thead th {\n",
       "        text-align: right;\n",
       "    }\n",
       "</style>\n",
       "<table border=\"1\" class=\"dataframe\">\n",
       "  <thead>\n",
       "    <tr style=\"text-align: right;\">\n",
       "      <th></th>\n",
       "      <th>date</th>\n",
       "      <th>registration_type</th>\n",
       "      <th>played_t11_before</th>\n",
       "      <th>registration_channel</th>\n",
       "      <th>network_type</th>\n",
       "      <th>device_tier</th>\n",
       "      <th>device_type</th>\n",
       "      <th>device_manufacturer</th>\n",
       "      <th>screen_dpi</th>\n",
       "      <th>device_memory_size_mb</th>\n",
       "      <th>device_model</th>\n",
       "      <th>os_version</th>\n",
       "      <th>registrations</th>\n",
       "      <th>returned</th>\n",
       "      <th>month</th>\n",
       "      <th>day_of_week</th>\n",
       "      <th>day_of_month</th>\n",
       "    </tr>\n",
       "  </thead>\n",
       "  <tbody>\n",
       "    <tr>\n",
       "      <th>10061</th>\n",
       "      <td>2022-06-05</td>\n",
       "      <td>1</td>\n",
       "      <td>2</td>\n",
       "      <td>2</td>\n",
       "      <td>1</td>\n",
       "      <td>3</td>\n",
       "      <td>1</td>\n",
       "      <td>1</td>\n",
       "      <td>320.0</td>\n",
       "      <td>2827.0</td>\n",
       "      <td>samsung SM-N910C</td>\n",
       "      <td>Android OS 6.0.1 / API-23</td>\n",
       "      <td>2</td>\n",
       "      <td>0</td>\n",
       "      <td>6</td>\n",
       "      <td>6</td>\n",
       "      <td>5</td>\n",
       "    </tr>\n",
       "    <tr>\n",
       "      <th>10062</th>\n",
       "      <td>2022-06-05</td>\n",
       "      <td>3</td>\n",
       "      <td>0</td>\n",
       "      <td>0</td>\n",
       "      <td>1</td>\n",
       "      <td>3</td>\n",
       "      <td>1</td>\n",
       "      <td>4</td>\n",
       "      <td>480.0</td>\n",
       "      <td>3678.0</td>\n",
       "      <td>HUAWEI PPA-LX2</td>\n",
       "      <td>Android OS 10 / API-29</td>\n",
       "      <td>1</td>\n",
       "      <td>1</td>\n",
       "      <td>6</td>\n",
       "      <td>6</td>\n",
       "      <td>5</td>\n",
       "    </tr>\n",
       "    <tr>\n",
       "      <th>10063</th>\n",
       "      <td>2022-06-05</td>\n",
       "      <td>1</td>\n",
       "      <td>2</td>\n",
       "      <td>2</td>\n",
       "      <td>1</td>\n",
       "      <td>3</td>\n",
       "      <td>1</td>\n",
       "      <td>1</td>\n",
       "      <td>280.0</td>\n",
       "      <td>1724.0</td>\n",
       "      <td>samsung SM-A105FN</td>\n",
       "      <td>Android OS 10 / API-29</td>\n",
       "      <td>2</td>\n",
       "      <td>0</td>\n",
       "      <td>6</td>\n",
       "      <td>6</td>\n",
       "      <td>5</td>\n",
       "    </tr>\n",
       "    <tr>\n",
       "      <th>10064</th>\n",
       "      <td>2022-06-05</td>\n",
       "      <td>1</td>\n",
       "      <td>2</td>\n",
       "      <td>2</td>\n",
       "      <td>2</td>\n",
       "      <td>2</td>\n",
       "      <td>1</td>\n",
       "      <td>4</td>\n",
       "      <td>480.0</td>\n",
       "      <td>3788.0</td>\n",
       "      <td>HUAWEI WAS-LX1A</td>\n",
       "      <td>Android OS 8.0.0 / API-26</td>\n",
       "      <td>1</td>\n",
       "      <td>1</td>\n",
       "      <td>6</td>\n",
       "      <td>6</td>\n",
       "      <td>5</td>\n",
       "    </tr>\n",
       "    <tr>\n",
       "      <th>10065</th>\n",
       "      <td>2022-06-05</td>\n",
       "      <td>1</td>\n",
       "      <td>2</td>\n",
       "      <td>2</td>\n",
       "      <td>1</td>\n",
       "      <td>2</td>\n",
       "      <td>1</td>\n",
       "      <td>0</td>\n",
       "      <td>280.0</td>\n",
       "      <td>2791.0</td>\n",
       "      <td>General Mobile G300</td>\n",
       "      <td>Android OS 10 / API-29</td>\n",
       "      <td>1</td>\n",
       "      <td>0</td>\n",
       "      <td>6</td>\n",
       "      <td>6</td>\n",
       "      <td>5</td>\n",
       "    </tr>\n",
       "    <tr>\n",
       "      <th>10066</th>\n",
       "      <td>2022-06-05</td>\n",
       "      <td>1</td>\n",
       "      <td>1</td>\n",
       "      <td>1</td>\n",
       "      <td>1</td>\n",
       "      <td>1</td>\n",
       "      <td>1</td>\n",
       "      <td>1</td>\n",
       "      <td>240.0</td>\n",
       "      <td>1407.0</td>\n",
       "      <td>samsung SM-G532F</td>\n",
       "      <td>Android OS 6.0.1 / API-23</td>\n",
       "      <td>2</td>\n",
       "      <td>0</td>\n",
       "      <td>6</td>\n",
       "      <td>6</td>\n",
       "      <td>5</td>\n",
       "    </tr>\n",
       "    <tr>\n",
       "      <th>10067</th>\n",
       "      <td>2022-06-05</td>\n",
       "      <td>1</td>\n",
       "      <td>2</td>\n",
       "      <td>2</td>\n",
       "      <td>0</td>\n",
       "      <td>4</td>\n",
       "      <td>1</td>\n",
       "      <td>2</td>\n",
       "      <td>440.0</td>\n",
       "      <td>5630.0</td>\n",
       "      <td>Xiaomi M2007J20CG</td>\n",
       "      <td>Android OS 11 / API-30</td>\n",
       "      <td>1</td>\n",
       "      <td>1</td>\n",
       "      <td>6</td>\n",
       "      <td>6</td>\n",
       "      <td>5</td>\n",
       "    </tr>\n",
       "    <tr>\n",
       "      <th>10068</th>\n",
       "      <td>2022-06-05</td>\n",
       "      <td>1</td>\n",
       "      <td>2</td>\n",
       "      <td>1</td>\n",
       "      <td>2</td>\n",
       "      <td>4</td>\n",
       "      <td>1</td>\n",
       "      <td>4</td>\n",
       "      <td>480.0</td>\n",
       "      <td>5689.0</td>\n",
       "      <td>HUAWEI JNY-LX1</td>\n",
       "      <td>Android OS 10 / API-29</td>\n",
       "      <td>1</td>\n",
       "      <td>0</td>\n",
       "      <td>6</td>\n",
       "      <td>6</td>\n",
       "      <td>5</td>\n",
       "    </tr>\n",
       "    <tr>\n",
       "      <th>10069</th>\n",
       "      <td>2022-06-05</td>\n",
       "      <td>3</td>\n",
       "      <td>0</td>\n",
       "      <td>2</td>\n",
       "      <td>2</td>\n",
       "      <td>2</td>\n",
       "      <td>1</td>\n",
       "      <td>1</td>\n",
       "      <td>280.0</td>\n",
       "      <td>1791.0</td>\n",
       "      <td>samsung SM-A107F</td>\n",
       "      <td>Android OS 11 / API-30</td>\n",
       "      <td>2</td>\n",
       "      <td>1</td>\n",
       "      <td>6</td>\n",
       "      <td>6</td>\n",
       "      <td>5</td>\n",
       "    </tr>\n",
       "    <tr>\n",
       "      <th>10070</th>\n",
       "      <td>2022-06-05</td>\n",
       "      <td>3</td>\n",
       "      <td>0</td>\n",
       "      <td>2</td>\n",
       "      <td>0</td>\n",
       "      <td>4</td>\n",
       "      <td>1</td>\n",
       "      <td>7</td>\n",
       "      <td>320.0</td>\n",
       "      <td>3784.0</td>\n",
       "      <td>realme RMX3269</td>\n",
       "      <td>Android OS 11 / API-30</td>\n",
       "      <td>1</td>\n",
       "      <td>1</td>\n",
       "      <td>6</td>\n",
       "      <td>6</td>\n",
       "      <td>5</td>\n",
       "    </tr>\n",
       "    <tr>\n",
       "      <th>10071</th>\n",
       "      <td>2022-06-05</td>\n",
       "      <td>3</td>\n",
       "      <td>0</td>\n",
       "      <td>2</td>\n",
       "      <td>1</td>\n",
       "      <td>2</td>\n",
       "      <td>1</td>\n",
       "      <td>1</td>\n",
       "      <td>280.0</td>\n",
       "      <td>1811.0</td>\n",
       "      <td>samsung SM-A115F</td>\n",
       "      <td>Android OS 10 / API-29</td>\n",
       "      <td>1</td>\n",
       "      <td>1</td>\n",
       "      <td>6</td>\n",
       "      <td>6</td>\n",
       "      <td>5</td>\n",
       "    </tr>\n",
       "    <tr>\n",
       "      <th>10072</th>\n",
       "      <td>2022-06-05</td>\n",
       "      <td>1</td>\n",
       "      <td>1</td>\n",
       "      <td>2</td>\n",
       "      <td>1</td>\n",
       "      <td>3</td>\n",
       "      <td>1</td>\n",
       "      <td>1</td>\n",
       "      <td>320.0</td>\n",
       "      <td>2828.0</td>\n",
       "      <td>samsung SM-N910C</td>\n",
       "      <td>Android OS 6.0.1 / API-23</td>\n",
       "      <td>1</td>\n",
       "      <td>0</td>\n",
       "      <td>6</td>\n",
       "      <td>6</td>\n",
       "      <td>5</td>\n",
       "    </tr>\n",
       "    <tr>\n",
       "      <th>10073</th>\n",
       "      <td>2022-06-05</td>\n",
       "      <td>1</td>\n",
       "      <td>2</td>\n",
       "      <td>1</td>\n",
       "      <td>1</td>\n",
       "      <td>2</td>\n",
       "      <td>2</td>\n",
       "      <td>11</td>\n",
       "      <td>160.0</td>\n",
       "      <td>1972.0</td>\n",
       "      <td>LENOVO Lenovo TB-7306F</td>\n",
       "      <td>Android OS 11 / API-30</td>\n",
       "      <td>1</td>\n",
       "      <td>0</td>\n",
       "      <td>6</td>\n",
       "      <td>6</td>\n",
       "      <td>5</td>\n",
       "    </tr>\n",
       "    <tr>\n",
       "      <th>10074</th>\n",
       "      <td>2022-06-05</td>\n",
       "      <td>1</td>\n",
       "      <td>2</td>\n",
       "      <td>2</td>\n",
       "      <td>1</td>\n",
       "      <td>1</td>\n",
       "      <td>1</td>\n",
       "      <td>1</td>\n",
       "      <td>280.0</td>\n",
       "      <td>1891.0</td>\n",
       "      <td>samsung SM-J510FQ</td>\n",
       "      <td>Android OS 7.1.1 / API-25</td>\n",
       "      <td>1</td>\n",
       "      <td>0</td>\n",
       "      <td>6</td>\n",
       "      <td>6</td>\n",
       "      <td>5</td>\n",
       "    </tr>\n",
       "    <tr>\n",
       "      <th>10075</th>\n",
       "      <td>2022-06-05</td>\n",
       "      <td>1</td>\n",
       "      <td>2</td>\n",
       "      <td>1</td>\n",
       "      <td>1</td>\n",
       "      <td>2</td>\n",
       "      <td>2</td>\n",
       "      <td>1</td>\n",
       "      <td>180.0</td>\n",
       "      <td>2951.0</td>\n",
       "      <td>samsung SM-P580</td>\n",
       "      <td>Android OS 8.1.0 / API-27</td>\n",
       "      <td>3</td>\n",
       "      <td>0</td>\n",
       "      <td>6</td>\n",
       "      <td>6</td>\n",
       "      <td>5</td>\n",
       "    </tr>\n",
       "  </tbody>\n",
       "</table>\n",
       "</div>"
      ],
      "text/plain": [
       "             date  registration_type  played_t11_before  registration_channel  \\\n",
       "10061  2022-06-05                  1                  2                     2   \n",
       "10062  2022-06-05                  3                  0                     0   \n",
       "10063  2022-06-05                  1                  2                     2   \n",
       "10064  2022-06-05                  1                  2                     2   \n",
       "10065  2022-06-05                  1                  2                     2   \n",
       "10066  2022-06-05                  1                  1                     1   \n",
       "10067  2022-06-05                  1                  2                     2   \n",
       "10068  2022-06-05                  1                  2                     1   \n",
       "10069  2022-06-05                  3                  0                     2   \n",
       "10070  2022-06-05                  3                  0                     2   \n",
       "10071  2022-06-05                  3                  0                     2   \n",
       "10072  2022-06-05                  1                  1                     2   \n",
       "10073  2022-06-05                  1                  2                     1   \n",
       "10074  2022-06-05                  1                  2                     2   \n",
       "10075  2022-06-05                  1                  2                     1   \n",
       "\n",
       "       network_type  device_tier  device_type  device_manufacturer  \\\n",
       "10061             1            3            1                    1   \n",
       "10062             1            3            1                    4   \n",
       "10063             1            3            1                    1   \n",
       "10064             2            2            1                    4   \n",
       "10065             1            2            1                    0   \n",
       "10066             1            1            1                    1   \n",
       "10067             0            4            1                    2   \n",
       "10068             2            4            1                    4   \n",
       "10069             2            2            1                    1   \n",
       "10070             0            4            1                    7   \n",
       "10071             1            2            1                    1   \n",
       "10072             1            3            1                    1   \n",
       "10073             1            2            2                   11   \n",
       "10074             1            1            1                    1   \n",
       "10075             1            2            2                    1   \n",
       "\n",
       "       screen_dpi  device_memory_size_mb            device_model  \\\n",
       "10061       320.0                 2827.0        samsung SM-N910C   \n",
       "10062       480.0                 3678.0          HUAWEI PPA-LX2   \n",
       "10063       280.0                 1724.0       samsung SM-A105FN   \n",
       "10064       480.0                 3788.0         HUAWEI WAS-LX1A   \n",
       "10065       280.0                 2791.0     General Mobile G300   \n",
       "10066       240.0                 1407.0        samsung SM-G532F   \n",
       "10067       440.0                 5630.0       Xiaomi M2007J20CG   \n",
       "10068       480.0                 5689.0          HUAWEI JNY-LX1   \n",
       "10069       280.0                 1791.0        samsung SM-A107F   \n",
       "10070       320.0                 3784.0          realme RMX3269   \n",
       "10071       280.0                 1811.0        samsung SM-A115F   \n",
       "10072       320.0                 2828.0        samsung SM-N910C   \n",
       "10073       160.0                 1972.0  LENOVO Lenovo TB-7306F   \n",
       "10074       280.0                 1891.0       samsung SM-J510FQ   \n",
       "10075       180.0                 2951.0         samsung SM-P580   \n",
       "\n",
       "                      os_version  registrations  returned  month  day_of_week  \\\n",
       "10061  Android OS 6.0.1 / API-23              2         0      6            6   \n",
       "10062     Android OS 10 / API-29              1         1      6            6   \n",
       "10063     Android OS 10 / API-29              2         0      6            6   \n",
       "10064  Android OS 8.0.0 / API-26              1         1      6            6   \n",
       "10065     Android OS 10 / API-29              1         0      6            6   \n",
       "10066  Android OS 6.0.1 / API-23              2         0      6            6   \n",
       "10067     Android OS 11 / API-30              1         1      6            6   \n",
       "10068     Android OS 10 / API-29              1         0      6            6   \n",
       "10069     Android OS 11 / API-30              2         1      6            6   \n",
       "10070     Android OS 11 / API-30              1         1      6            6   \n",
       "10071     Android OS 10 / API-29              1         1      6            6   \n",
       "10072  Android OS 6.0.1 / API-23              1         0      6            6   \n",
       "10073     Android OS 11 / API-30              1         0      6            6   \n",
       "10074  Android OS 7.1.1 / API-25              1         0      6            6   \n",
       "10075  Android OS 8.1.0 / API-27              3         0      6            6   \n",
       "\n",
       "       day_of_month  \n",
       "10061             5  \n",
       "10062             5  \n",
       "10063             5  \n",
       "10064             5  \n",
       "10065             5  \n",
       "10066             5  \n",
       "10067             5  \n",
       "10068             5  \n",
       "10069             5  \n",
       "10070             5  \n",
       "10071             5  \n",
       "10072             5  \n",
       "10073             5  \n",
       "10074             5  \n",
       "10075             5  "
      ]
     },
     "execution_count": 36,
     "metadata": {},
     "output_type": "execute_result"
    }
   ],
   "source": [
    "df[10000:10015]"
   ]
  },
  {
   "cell_type": "code",
   "execution_count": 37,
   "id": "eead6801",
   "metadata": {},
   "outputs": [],
   "source": [
    "df['device_brand'] = df['device_model'].str.split(' ').str[0]"
   ]
  },
  {
   "cell_type": "code",
   "execution_count": 38,
   "id": "a4d9a281",
   "metadata": {},
   "outputs": [],
   "source": [
    "df.drop('device_brand', axis=1, inplace=True)\n",
    "# I've realized so late we have similar column"
   ]
  },
  {
   "cell_type": "code",
   "execution_count": 39,
   "id": "b9f9eef5",
   "metadata": {},
   "outputs": [
    {
     "data": {
      "text/plain": [
       "(340442, 17)"
      ]
     },
     "execution_count": 39,
     "metadata": {},
     "output_type": "execute_result"
    }
   ],
   "source": [
    "df.shape"
   ]
  },
  {
   "cell_type": "markdown",
   "id": "cf6aeefe",
   "metadata": {},
   "source": [
    "* **Make a column which shows whether day is in the first or in the second part of month**"
   ]
  },
  {
   "cell_type": "code",
   "execution_count": 40,
   "id": "f3a0fb10",
   "metadata": {},
   "outputs": [],
   "source": [
    "new_column = []\n",
    "\n",
    "for day in df['day_of_month'].values:\n",
    "    if day <= 15:\n",
    "        new_column.append(1)\n",
    "    else:\n",
    "        new_column.append(2)\n",
    "        \n",
    "df[\"part_of_month\"] = new_column"
   ]
  },
  {
   "cell_type": "code",
   "execution_count": 41,
   "id": "ea715454",
   "metadata": {},
   "outputs": [
    {
     "name": "stdout",
     "output_type": "stream",
     "text": [
      "182921\n",
      "157521\n"
     ]
    }
   ],
   "source": [
    "count1 =0\n",
    "count2 =0\n",
    "for i in range(len(new_column)):\n",
    "    if new_column[i]==2:\n",
    "        count1=count1+1\n",
    "    else:\n",
    "        count2=count2+1\n",
    "print(count2),\n",
    "print(count1)"
   ]
  },
  {
   "cell_type": "markdown",
   "id": "dd4f40c3",
   "metadata": {},
   "source": [
    "### Split data into training and test sets\n",
    "\n",
    "   We're going to make train and test sets, and then see correlations in the training dataset. After that we have turn everything into numbers, split df_train into train and validation (10% of the train set) and try to fit data into the model,m"
   ]
  },
  {
   "cell_type": "code",
   "execution_count": 42,
   "id": "1115fe2c",
   "metadata": {},
   "outputs": [
    {
     "data": {
      "text/plain": [
       "8    102381\n",
       "7     96067\n",
       "6     92960\n",
       "9     49034\n",
       "Name: month, dtype: int64"
      ]
     },
     "execution_count": 42,
     "metadata": {},
     "output_type": "execute_result"
    }
   ],
   "source": [
    "df.month.value_counts()"
   ]
  },
  {
   "cell_type": "code",
   "execution_count": 43,
   "id": "71b8dc0b",
   "metadata": {},
   "outputs": [],
   "source": [
    "df_test = df[df.month == 9]\n",
    "df_train = df[df.month != 9]\n",
    "df2_test = df2[df2.month == 9]\n",
    "df2_train = df2[df2.month != 9]"
   ]
  },
  {
   "cell_type": "code",
   "execution_count": 44,
   "id": "c5beec68",
   "metadata": {},
   "outputs": [
    {
     "data": {
      "text/plain": [
       "(49034, 291408, (49034, 18), (291408, 18))"
      ]
     },
     "execution_count": 44,
     "metadata": {},
     "output_type": "execute_result"
    }
   ],
   "source": [
    "len(df_test), len(df_train), df_test.shape, df_train.shape"
   ]
  },
  {
   "cell_type": "code",
   "execution_count": 45,
   "id": "02f1c748",
   "metadata": {},
   "outputs": [
    {
     "data": {
      "text/plain": [
       "(49281, 293051, (49281, 17), (293051, 17))"
      ]
     },
     "execution_count": 45,
     "metadata": {},
     "output_type": "execute_result"
    }
   ],
   "source": [
    "len(df2_test), len(df2_train), df2_test.shape, df2_train.shape"
   ]
  },
  {
   "cell_type": "code",
   "execution_count": 46,
   "id": "cd3029d5",
   "metadata": {},
   "outputs": [
    {
     "data": {
      "text/html": [
       "<div>\n",
       "<style scoped>\n",
       "    .dataframe tbody tr th:only-of-type {\n",
       "        vertical-align: middle;\n",
       "    }\n",
       "\n",
       "    .dataframe tbody tr th {\n",
       "        vertical-align: top;\n",
       "    }\n",
       "\n",
       "    .dataframe thead th {\n",
       "        text-align: right;\n",
       "    }\n",
       "</style>\n",
       "<table border=\"1\" class=\"dataframe\">\n",
       "  <thead>\n",
       "    <tr style=\"text-align: right;\">\n",
       "      <th></th>\n",
       "      <th>date</th>\n",
       "      <th>registration_type</th>\n",
       "      <th>played_t11_before</th>\n",
       "      <th>registration_channel</th>\n",
       "      <th>network_type</th>\n",
       "      <th>device_tier</th>\n",
       "      <th>device_type</th>\n",
       "      <th>device_manufacturer</th>\n",
       "      <th>screen_dpi</th>\n",
       "      <th>device_memory_size_mb</th>\n",
       "      <th>device_model</th>\n",
       "      <th>os_version</th>\n",
       "      <th>registrations</th>\n",
       "      <th>returned</th>\n",
       "      <th>month</th>\n",
       "      <th>day_of_week</th>\n",
       "      <th>day_of_month</th>\n",
       "      <th>part_of_month</th>\n",
       "    </tr>\n",
       "  </thead>\n",
       "  <tbody>\n",
       "    <tr>\n",
       "      <th>0</th>\n",
       "      <td>2022-06-02</td>\n",
       "      <td>3</td>\n",
       "      <td>0</td>\n",
       "      <td>1</td>\n",
       "      <td>1</td>\n",
       "      <td>3</td>\n",
       "      <td>1</td>\n",
       "      <td>2</td>\n",
       "      <td>320.0</td>\n",
       "      <td>2820.0</td>\n",
       "      <td>Xiaomi Redmi 7</td>\n",
       "      <td>Android OS 10 / API-29</td>\n",
       "      <td>1</td>\n",
       "      <td>1</td>\n",
       "      <td>6</td>\n",
       "      <td>3</td>\n",
       "      <td>2</td>\n",
       "      <td>1</td>\n",
       "    </tr>\n",
       "    <tr>\n",
       "      <th>1</th>\n",
       "      <td>2022-06-02</td>\n",
       "      <td>1</td>\n",
       "      <td>2</td>\n",
       "      <td>1</td>\n",
       "      <td>1</td>\n",
       "      <td>4</td>\n",
       "      <td>1</td>\n",
       "      <td>0</td>\n",
       "      <td>480.0</td>\n",
       "      <td>2740.0</td>\n",
       "      <td>OMIX OMIX X300</td>\n",
       "      <td>Android OS 11 / API-30</td>\n",
       "      <td>1</td>\n",
       "      <td>0</td>\n",
       "      <td>6</td>\n",
       "      <td>3</td>\n",
       "      <td>2</td>\n",
       "      <td>1</td>\n",
       "    </tr>\n",
       "    <tr>\n",
       "      <th>2</th>\n",
       "      <td>2022-06-02</td>\n",
       "      <td>3</td>\n",
       "      <td>0</td>\n",
       "      <td>1</td>\n",
       "      <td>1</td>\n",
       "      <td>3</td>\n",
       "      <td>1</td>\n",
       "      <td>1</td>\n",
       "      <td>315.0</td>\n",
       "      <td>3571.0</td>\n",
       "      <td>samsung SM-M215F</td>\n",
       "      <td>Android OS 11 / API-30</td>\n",
       "      <td>1</td>\n",
       "      <td>0</td>\n",
       "      <td>6</td>\n",
       "      <td>3</td>\n",
       "      <td>2</td>\n",
       "      <td>1</td>\n",
       "    </tr>\n",
       "    <tr>\n",
       "      <th>3</th>\n",
       "      <td>2022-06-02</td>\n",
       "      <td>1</td>\n",
       "      <td>2</td>\n",
       "      <td>2</td>\n",
       "      <td>1</td>\n",
       "      <td>2</td>\n",
       "      <td>1</td>\n",
       "      <td>10</td>\n",
       "      <td>320.0</td>\n",
       "      <td>3774.0</td>\n",
       "      <td>TECNO MOBILE LIMITED TECNO KC3</td>\n",
       "      <td>Android OS 9 / API-28</td>\n",
       "      <td>1</td>\n",
       "      <td>1</td>\n",
       "      <td>6</td>\n",
       "      <td>3</td>\n",
       "      <td>2</td>\n",
       "      <td>1</td>\n",
       "    </tr>\n",
       "    <tr>\n",
       "      <th>4</th>\n",
       "      <td>2022-06-02</td>\n",
       "      <td>1</td>\n",
       "      <td>2</td>\n",
       "      <td>2</td>\n",
       "      <td>1</td>\n",
       "      <td>1</td>\n",
       "      <td>1</td>\n",
       "      <td>1</td>\n",
       "      <td>320.0</td>\n",
       "      <td>889.0</td>\n",
       "      <td>samsung SM-A013G</td>\n",
       "      <td>Android OS 10 / API-29</td>\n",
       "      <td>1</td>\n",
       "      <td>0</td>\n",
       "      <td>6</td>\n",
       "      <td>3</td>\n",
       "      <td>2</td>\n",
       "      <td>1</td>\n",
       "    </tr>\n",
       "  </tbody>\n",
       "</table>\n",
       "</div>"
      ],
      "text/plain": [
       "         date  registration_type  played_t11_before  registration_channel  \\\n",
       "0  2022-06-02                  3                  0                     1   \n",
       "1  2022-06-02                  1                  2                     1   \n",
       "2  2022-06-02                  3                  0                     1   \n",
       "3  2022-06-02                  1                  2                     2   \n",
       "4  2022-06-02                  1                  2                     2   \n",
       "\n",
       "   network_type  device_tier  device_type  device_manufacturer  screen_dpi  \\\n",
       "0             1            3            1                    2       320.0   \n",
       "1             1            4            1                    0       480.0   \n",
       "2             1            3            1                    1       315.0   \n",
       "3             1            2            1                   10       320.0   \n",
       "4             1            1            1                    1       320.0   \n",
       "\n",
       "   device_memory_size_mb                    device_model  \\\n",
       "0                 2820.0                  Xiaomi Redmi 7   \n",
       "1                 2740.0                  OMIX OMIX X300   \n",
       "2                 3571.0                samsung SM-M215F   \n",
       "3                 3774.0  TECNO MOBILE LIMITED TECNO KC3   \n",
       "4                  889.0                samsung SM-A013G   \n",
       "\n",
       "               os_version  registrations  returned  month  day_of_week  \\\n",
       "0  Android OS 10 / API-29              1         1      6            3   \n",
       "1  Android OS 11 / API-30              1         0      6            3   \n",
       "2  Android OS 11 / API-30              1         0      6            3   \n",
       "3   Android OS 9 / API-28              1         1      6            3   \n",
       "4  Android OS 10 / API-29              1         0      6            3   \n",
       "\n",
       "   day_of_month  part_of_month  \n",
       "0             2              1  \n",
       "1             2              1  \n",
       "2             2              1  \n",
       "3             2              1  \n",
       "4             2              1  "
      ]
     },
     "execution_count": 46,
     "metadata": {},
     "output_type": "execute_result"
    }
   ],
   "source": [
    "df_train.head(5)"
   ]
  },
  {
   "cell_type": "markdown",
   "id": "c8f28b1c",
   "metadata": {},
   "source": [
    "## Check correlations between target and features values in train data"
   ]
  },
  {
   "cell_type": "markdown",
   "id": "bd535d7d",
   "metadata": {},
   "source": [
    "#### Date vs returned (returned/registrations)"
   ]
  },
  {
   "cell_type": "code",
   "execution_count": 47,
   "id": "69b68420",
   "metadata": {},
   "outputs": [
    {
     "data": {
      "text/plain": [
       "<Axes: xlabel='date', ylabel='number of returned player/date'>"
      ]
     },
     "execution_count": 47,
     "metadata": {},
     "output_type": "execute_result"
    },
    {
     "data": {
      "image/png": "[encoded data removed]",
      "text/plain": [
       "<Figure size 640x480 with 1 Axes>"
      ]
     },
     "metadata": {},
     "output_type": "display_data"
    }
   ],
   "source": [
    "df_train_analysis = df_train.copy()\n",
    "df_train_analysis['date'] = pd.to_datetime(df_train_analysis['date'])\n",
    "df_train_analysis['returned'].groupby(df_train_analysis['date'].dt.to_period('d')).sum().plot(kind='line', ylabel='number of returned player/date', xlabel='date', xticks=[])"
   ]
  },
  {
   "cell_type": "markdown",
   "id": "35ecb939",
   "metadata": {},
   "source": [
    "* We can see that 'returned' values are lower in the first half of months and that we have the highest range of 'returned' in June"
   ]
  },
  {
   "cell_type": "code",
   "execution_count": 51,
   "id": "1f88d25c",
   "metadata": {},
   "outputs": [],
   "source": [
    "df_train_analysis['Retention Day 1'] = df_train_analysis['returned']/df_train_analysis['registrations']\n",
    "#fig, ax = plt.subplots()\n",
    "#ax.scatter(df_train_analysis['device_memory_size_mb'], df_train_analysis['Retention Day 1'])"
   ]
  },
  {
   "cell_type": "code",
   "execution_count": 52,
   "id": "8b0d2e80",
   "metadata": {},
   "outputs": [],
   "source": [
    "df2_train = df2_train[ (df2_train['returned'] < 20) & (df2_train['registrations'] < 60)] "
   ]
  },
  {
   "cell_type": "markdown",
   "id": "48b90f37",
   "metadata": {},
   "source": [
    "So that aren't good plots, but I've tried to parse dates and I haven't gotten better one.\n",
    "Only what I see from plots and cross tab(month vs returned) is that returned = 22 is outlier, or maybe all values greater than 15"
   ]
  },
  {
   "cell_type": "code",
   "execution_count": 56,
   "id": "ce7580f0",
   "metadata": {},
   "outputs": [],
   "source": [
    "#df_train_analysis.plot(x='day_of_month', y='returned',kind='line');"
   ]
  },
  {
   "cell_type": "code",
   "execution_count": 57,
   "id": "9badaf8a",
   "metadata": {
    "scrolled": false
   },
   "outputs": [
    {
     "data": {
      "image/png": "[encoded data removed]",
      "text/plain": [
       "<Figure size 640x480 with 1 Axes>"
      ]
     },
     "metadata": {},
     "output_type": "display_data"
    }
   ],
   "source": [
    "fig, ax = plt.subplots()\n",
    "ax.hist(df_train.registration_channel)\n",
    "ax.set(title = \"Registration channel\",\n",
    "       xlabel = \"Registration chanel (0-'no data', 1-'organic' , 2-'paid')\",\n",
    "       ylabel = \"Number of players\")\n",
    "plt.xticks([0,1,2]);"
   ]
  },
  {
   "cell_type": "markdown",
   "id": "f24eb763",
   "metadata": {},
   "source": [
    "We can see that most of new users were targeted by any T11 marketing campaigns, before the installing the game."
   ]
  },
  {
   "cell_type": "markdown",
   "id": "549fa306",
   "metadata": {},
   "source": [
    "#### Month vs returned (returned/registrations)"
   ]
  },
  {
   "cell_type": "code",
   "execution_count": 58,
   "id": "0d594906",
   "metadata": {},
   "outputs": [
    {
     "data": {
      "text/plain": [
       "<Axes: xlabel='month', ylabel='number of returned player'>"
      ]
     },
     "execution_count": 58,
     "metadata": {},
     "output_type": "execute_result"
    },
    {
     "data": {
      "image/png": "[encoded data removed]",
      "text/plain": [
       "<Figure size 640x480 with 1 Axes>"
      ]
     },
     "metadata": {},
     "output_type": "display_data"
    }
   ],
   "source": [
    "df_train_analysis['returned'].groupby(df_train_analysis['date'].dt.to_period('M')).sum().plot(kind='bar', ylabel='number of returned player', xlabel='month', color=['red', 'green', 'blue'])"
   ]
  },
  {
   "cell_type": "code",
   "execution_count": 59,
   "id": "47090de3",
   "metadata": {},
   "outputs": [
    {
     "data": {
      "text/plain": [
       "<Axes: xlabel='month', ylabel='number of registered player'>"
      ]
     },
     "execution_count": 59,
     "metadata": {},
     "output_type": "execute_result"
    },
    {
     "data": {
      "image/png": "[encoded data removed]",
      "text/plain": [
       "<Figure size 640x480 with 1 Axes>"
      ]
     },
     "metadata": {},
     "output_type": "display_data"
    }
   ],
   "source": [
    "df_train_analysis['registrations'].groupby(df_train_analysis['date'].dt.to_period('M')).sum().plot(kind='bar', ylabel='number of registered player', xlabel='month', color=['red', 'green', 'blue'])"
   ]
  },
  {
   "cell_type": "code",
   "execution_count": 60,
   "id": "5a419255",
   "metadata": {},
   "outputs": [
    {
     "data": {
      "text/plain": [
       "<Axes: xlabel='month', ylabel='Retention Day 1'>"
      ]
     },
     "execution_count": 60,
     "metadata": {},
     "output_type": "execute_result"
    },
    {
     "data": {
      "image/png": "[encoded data removed]",
      "text/plain": [
       "<Figure size 640x480 with 1 Axes>"
      ]
     },
     "metadata": {},
     "output_type": "display_data"
    }
   ],
   "source": [
    "df_train_analysis['Retention Day 1'].groupby(df_train_analysis['date'].dt.to_period('M')).sum().plot(kind='bar', ylabel='Retention Day 1', xlabel='month', color=['red', 'green', 'blue'])"
   ]
  },
  {
   "cell_type": "markdown",
   "id": "07f13162",
   "metadata": {},
   "source": [
    "* We have the most of registrated and returned players in august, and the highest ratio 'returned'/'registration'"
   ]
  },
  {
   "cell_type": "code",
   "execution_count": 61,
   "id": "342ad0d9",
   "metadata": {},
   "outputs": [
    {
     "data": {
      "text/html": [
       "<div>\n",
       "<style scoped>\n",
       "    .dataframe tbody tr th:only-of-type {\n",
       "        vertical-align: middle;\n",
       "    }\n",
       "\n",
       "    .dataframe tbody tr th {\n",
       "        vertical-align: top;\n",
       "    }\n",
       "\n",
       "    .dataframe thead th {\n",
       "        text-align: right;\n",
       "    }\n",
       "</style>\n",
       "<table border=\"1\" class=\"dataframe\">\n",
       "  <thead>\n",
       "    <tr style=\"text-align: right;\">\n",
       "      <th>returned</th>\n",
       "      <th>0</th>\n",
       "      <th>1</th>\n",
       "      <th>2</th>\n",
       "      <th>3</th>\n",
       "      <th>4</th>\n",
       "      <th>5</th>\n",
       "      <th>6</th>\n",
       "      <th>7</th>\n",
       "      <th>8</th>\n",
       "      <th>9</th>\n",
       "      <th>10</th>\n",
       "      <th>11</th>\n",
       "      <th>12</th>\n",
       "      <th>13</th>\n",
       "      <th>14</th>\n",
       "      <th>15</th>\n",
       "      <th>16</th>\n",
       "      <th>18</th>\n",
       "      <th>22</th>\n",
       "    </tr>\n",
       "    <tr>\n",
       "      <th>registration_type</th>\n",
       "      <th></th>\n",
       "      <th></th>\n",
       "      <th></th>\n",
       "      <th></th>\n",
       "      <th></th>\n",
       "      <th></th>\n",
       "      <th></th>\n",
       "      <th></th>\n",
       "      <th></th>\n",
       "      <th></th>\n",
       "      <th></th>\n",
       "      <th></th>\n",
       "      <th></th>\n",
       "      <th></th>\n",
       "      <th></th>\n",
       "      <th></th>\n",
       "      <th></th>\n",
       "      <th></th>\n",
       "      <th></th>\n",
       "    </tr>\n",
       "  </thead>\n",
       "  <tbody>\n",
       "    <tr>\n",
       "      <th>1</th>\n",
       "      <td>119913</td>\n",
       "      <td>53196</td>\n",
       "      <td>6277</td>\n",
       "      <td>1654</td>\n",
       "      <td>611</td>\n",
       "      <td>232</td>\n",
       "      <td>145</td>\n",
       "      <td>51</td>\n",
       "      <td>38</td>\n",
       "      <td>22</td>\n",
       "      <td>12</td>\n",
       "      <td>3</td>\n",
       "      <td>3</td>\n",
       "      <td>2</td>\n",
       "      <td>0</td>\n",
       "      <td>0</td>\n",
       "      <td>0</td>\n",
       "      <td>0</td>\n",
       "      <td>0</td>\n",
       "    </tr>\n",
       "    <tr>\n",
       "      <th>2</th>\n",
       "      <td>38826</td>\n",
       "      <td>11293</td>\n",
       "      <td>796</td>\n",
       "      <td>128</td>\n",
       "      <td>23</td>\n",
       "      <td>4</td>\n",
       "      <td>1</td>\n",
       "      <td>0</td>\n",
       "      <td>0</td>\n",
       "      <td>0</td>\n",
       "      <td>0</td>\n",
       "      <td>0</td>\n",
       "      <td>0</td>\n",
       "      <td>0</td>\n",
       "      <td>0</td>\n",
       "      <td>0</td>\n",
       "      <td>0</td>\n",
       "      <td>0</td>\n",
       "      <td>0</td>\n",
       "    </tr>\n",
       "    <tr>\n",
       "      <th>3</th>\n",
       "      <td>20455</td>\n",
       "      <td>31206</td>\n",
       "      <td>4228</td>\n",
       "      <td>1260</td>\n",
       "      <td>490</td>\n",
       "      <td>237</td>\n",
       "      <td>129</td>\n",
       "      <td>58</td>\n",
       "      <td>49</td>\n",
       "      <td>26</td>\n",
       "      <td>14</td>\n",
       "      <td>5</td>\n",
       "      <td>6</td>\n",
       "      <td>5</td>\n",
       "      <td>6</td>\n",
       "      <td>1</td>\n",
       "      <td>1</td>\n",
       "      <td>1</td>\n",
       "      <td>1</td>\n",
       "    </tr>\n",
       "  </tbody>\n",
       "</table>\n",
       "</div>"
      ],
      "text/plain": [
       "returned               0      1     2     3    4    5    6   7   8   9   10  \\\n",
       "registration_type                                                             \n",
       "1                  119913  53196  6277  1654  611  232  145  51  38  22  12   \n",
       "2                   38826  11293   796   128   23    4    1   0   0   0   0   \n",
       "3                   20455  31206  4228  1260  490  237  129  58  49  26  14   \n",
       "\n",
       "returned           11  12  13  14  15  16  18  22  \n",
       "registration_type                                  \n",
       "1                   3   3   2   0   0   0   0   0  \n",
       "2                   0   0   0   0   0   0   0   0  \n",
       "3                   5   6   5   6   1   1   1   1  "
      ]
     },
     "execution_count": 61,
     "metadata": {},
     "output_type": "execute_result"
    }
   ],
   "source": [
    "pd.crosstab(df_train_analysis.registration_type, df_train_analysis.returned)"
   ]
  },
  {
   "cell_type": "code",
   "execution_count": 62,
   "id": "ceb31354",
   "metadata": {},
   "outputs": [
    {
     "data": {
      "text/plain": [
       "<Axes: xlabel='registration_type'>"
      ]
     },
     "execution_count": 62,
     "metadata": {},
     "output_type": "execute_result"
    },
    {
     "data": {
      "image/png": "[encoded data removed]",
      "text/plain": [
       "<Figure size 640x480 with 1 Axes>"
      ]
     },
     "metadata": {},
     "output_type": "display_data"
    }
   ],
   "source": [
    "pd.crosstab(df_train_analysis.registration_type, df_train_analysis.returned).plot(kind='bar')"
   ]
  },
  {
   "cell_type": "markdown",
   "id": "22137733",
   "metadata": {},
   "source": [
    "#### Retention Day 1 "
   ]
  },
  {
   "cell_type": "code",
   "execution_count": 63,
   "id": "55bf01b2",
   "metadata": {},
   "outputs": [
    {
     "data": {
      "image/png": "[encoded data removed]",
      "text/plain": [
       "<Figure size 640x480 with 1 Axes>"
      ]
     },
     "metadata": {},
     "output_type": "display_data"
    }
   ],
   "source": [
    "fig, ax = plt.subplots()\n",
    "ax.hist((df_train_analysis.returned/df_train_analysis.registrations));\n",
    "ax.set(title=\"Retention day1\",\n",
    "      xlabel=\"returned/registrations\",\n",
    "      ylabel=\"number of users\");"
   ]
  },
  {
   "cell_type": "code",
   "execution_count": 64,
   "id": "f200aeb6",
   "metadata": {},
   "outputs": [
    {
     "data": {
      "image/png": "[encoded data removed]",
      "text/plain": [
       "<Figure size 1500x700 with 4 Axes>"
      ]
     },
     "metadata": {},
     "output_type": "display_data"
    }
   ],
   "source": [
    "fig,((ax1, ax2),(ax3, ax4))=plt.subplots(nrows=2,\n",
    "                                         ncols=2,\n",
    "                                        figsize=(15,7))\n",
    "fig. suptitle(\"Histograms of all data\", fontsize=15)\n",
    "ax1.hist(df_train_analysis.registration_type)\n",
    "ax1.set(xlabel=\"registration_type(1 = Fresh Registration, 2 = Inactive ReRegistration, 3 = Active ReRegistration)\",\n",
    "       ylabel=\"number of users\")\n",
    "ax1.set_xticks([1,2,3])\n",
    "ax2.hist(df_train_analysis.network_type)\n",
    "ax2.set_xticks([0,1,2,3])\n",
    "ax2.set(xlabel=\"Nerwork type(0 = data not provided, 1 = WIFI, 2 = LTE (4G), 3 = HSPAP (3G))\")\n",
    "ax3.hist(df_train_analysis.device_type)\n",
    "ax3.set_xticks([1,2])\n",
    "ax3.set(xlabel='Device type (1 - phone, 2 - tablet)',\n",
    "       ylabel=\"number of users\")\n",
    "ax4.hist(df_train_analysis.device_manufacturer)\n",
    "ax4.set_xticks(range(0,14));\n",
    "ax4.set(xlabel=\"Device manufacturer\");"
   ]
  },
  {
   "cell_type": "code",
   "execution_count": 65,
   "id": "b16ece22",
   "metadata": {},
   "outputs": [
    {
     "data": {
      "text/plain": [
       "(579, 19)"
      ]
     },
     "execution_count": 65,
     "metadata": {},
     "output_type": "execute_result"
    }
   ],
   "source": [
    "df_train_returned_over_5 = df_train_analysis[df_train_analysis.returned>5]\n",
    "df_train_returned_over_5.shape"
   ]
  },
  {
   "cell_type": "code",
   "execution_count": 66,
   "id": "c5b8d71f",
   "metadata": {},
   "outputs": [
    {
     "data": {
      "image/png": "[encoded data removed]",
      "text/plain": [
       "<Figure size 1500x700 with 4 Axes>"
      ]
     },
     "metadata": {},
     "output_type": "display_data"
    }
   ],
   "source": [
    "fig,((ax1, ax2),(ax3, ax4))=plt.subplots(nrows=2,\n",
    "                                         ncols=2,\n",
    "                                        figsize=(15,7))\n",
    "fig. suptitle(\"Histograms of data where target value is greater than 5\", fontsize=15)\n",
    "ax1.hist(df_train_returned_over_5.registration_type)\n",
    "ax1.set(xlabel=\"registration_type(1 = Fresh Registration, 2 = Inactive ReRegistration, 3 = Active ReRegistration)\",\n",
    "       ylabel=\"number of users\")\n",
    "ax1.set_xticks([1,2,3])\n",
    "ax2.hist(df_train_returned_over_5.network_type)\n",
    "ax2.set_xticks([0,1,2,3])\n",
    "ax2.set(xlabel=\"Nerwork type(0 = data not provided, 1 = WIFI, 2 = LTE (4G), 3 = HSPAP (3G))\")\n",
    "ax3.hist(df_train_returned_over_5.device_type)\n",
    "ax3.set_xticks([1,2])\n",
    "ax3.set(xlabel='Device type (1 - phone, 2 - tablet)',\n",
    "       ylabel=\"number of users\")\n",
    "ax4.hist(df_train_returned_over_5.device_manufacturer)\n",
    "ax4.set_xticks(range(0,14));\n",
    "ax4.set(xlabel=\"Device manufacturer\");"
   ]
  },
  {
   "cell_type": "code",
   "execution_count": 67,
   "id": "b1bbddf1",
   "metadata": {},
   "outputs": [
    {
     "name": "stderr",
     "output_type": "stream",
     "text": [
      "C:\\Users\\USER\\Desktop\\TOP11\\env\\lib\\site-packages\\pandas\\plotting\\_matplotlib\\core.py:1114: UserWarning: No data for colormapping provided via 'c'. Parameters 'cmap' will be ignored\n",
      "  scatter = ax.scatter(\n"
     ]
    },
    {
     "data": {
      "image/png": "[encoded data removed]",
      "text/plain": [
       "<Figure size 640x480 with 1 Axes>"
      ]
     },
     "metadata": {},
     "output_type": "display_data"
    }
   ],
   "source": [
    "df_train_analysis.plot(x = 'registrations', y = 'returned', kind = 'scatter', title = 'DF1');"
   ]
  },
  {
   "cell_type": "code",
   "execution_count": 68,
   "id": "a515ee6a",
   "metadata": {},
   "outputs": [
    {
     "data": {
      "image/png": "[encoded data removed]",
      "text/plain": [
       "<Figure size 640x480 with 1 Axes>"
      ]
     },
     "metadata": {},
     "output_type": "display_data"
    }
   ],
   "source": [
    "df_train_analysis.plot(x = 'registrations', y = 'returned', kind = 'scatter', title='DF2');"
   ]
  },
  {
   "cell_type": "markdown",
   "id": "54d73105",
   "metadata": {},
   "source": [
    " We can see correlation between registrations and returned but there are a lot of exceptions.\n",
    "#### Every time when I tried to plot kind='bar' my kernel chashed... Maybe because of the amount of data?\n",
    "So from plots(our data) we can conclude :\n",
    "\n",
    "                                         Most of our users are 'fresh registrations'.\n",
    "                                         Most of them use Wifi and phone.\n",
    "                                         Most of them are samsung users.\n",
    "and our plot data where target values are greater than 5 shows (case of individual rows not grouped by date):\n",
    "                                         \n",
    "                                         Most of our returned users are Active Reregistrations,\n",
    "                                         use WIFI on the phone and they are Xiaomi users\n"
   ]
  },
  {
   "cell_type": "markdown",
   "id": "50e0d7a1",
   "metadata": {},
   "source": [
    "# Turning data into numbers"
   ]
  },
  {
   "cell_type": "code",
   "execution_count": 70,
   "id": "ab7fe7b8",
   "metadata": {},
   "outputs": [
    {
     "data": {
      "text/plain": [
       "date                      object\n",
       "registration_type          int64\n",
       "played_t11_before          int64\n",
       "registration_channel       int64\n",
       "network_type               int64\n",
       "device_tier                int64\n",
       "device_type                int64\n",
       "device_manufacturer        int64\n",
       "screen_dpi               float64\n",
       "device_memory_size_mb    float64\n",
       "device_model              object\n",
       "os_version                object\n",
       "registrations              int64\n",
       "returned                   int64\n",
       "month                      int64\n",
       "day_of_week                int64\n",
       "day_of_month               int64\n",
       "part_of_month              int64\n",
       "dtype: object"
      ]
     },
     "execution_count": 70,
     "metadata": {},
     "output_type": "execute_result"
    }
   ],
   "source": [
    "df_train.dtypes"
   ]
  },
  {
   "cell_type": "code",
   "execution_count": 71,
   "id": "63dba57f",
   "metadata": {},
   "outputs": [
    {
     "name": "stdout",
     "output_type": "stream",
     "text": [
      "date\n",
      "device_model\n",
      "os_version\n"
     ]
    }
   ],
   "source": [
    "# date O, device_model O, os_version O\n",
    "# So firstly turn string into categories\n",
    "for label, content in df_train.items():\n",
    "    if pd.api.types.is_string_dtype(content):\n",
    "        print(label)"
   ]
  },
  {
   "cell_type": "code",
   "execution_count": 72,
   "id": "479c529c",
   "metadata": {},
   "outputs": [
    {
     "name": "stderr",
     "output_type": "stream",
     "text": [
      "C:\\Users\\USER\\AppData\\Local\\Temp\\ipykernel_56656\\2488686635.py:3: SettingWithCopyWarning: \n",
      "A value is trying to be set on a copy of a slice from a DataFrame.\n",
      "Try using .loc[row_indexer,col_indexer] = value instead\n",
      "\n",
      "See the caveats in the documentation: https://pandas.pydata.org/pandas-docs/stable/user_guide/indexing.html#returning-a-view-versus-a-copy\n",
      "  df_train[label] = content.astype(\"category\").cat.as_ordered()\n",
      "C:\\Users\\USER\\AppData\\Local\\Temp\\ipykernel_56656\\2488686635.py:3: SettingWithCopyWarning: \n",
      "A value is trying to be set on a copy of a slice from a DataFrame.\n",
      "Try using .loc[row_indexer,col_indexer] = value instead\n",
      "\n",
      "See the caveats in the documentation: https://pandas.pydata.org/pandas-docs/stable/user_guide/indexing.html#returning-a-view-versus-a-copy\n",
      "  df_train[label] = content.astype(\"category\").cat.as_ordered()\n",
      "C:\\Users\\USER\\AppData\\Local\\Temp\\ipykernel_56656\\2488686635.py:3: SettingWithCopyWarning: \n",
      "A value is trying to be set on a copy of a slice from a DataFrame.\n",
      "Try using .loc[row_indexer,col_indexer] = value instead\n",
      "\n",
      "See the caveats in the documentation: https://pandas.pydata.org/pandas-docs/stable/user_guide/indexing.html#returning-a-view-versus-a-copy\n",
      "  df_train[label] = content.astype(\"category\").cat.as_ordered()\n"
     ]
    }
   ],
   "source": [
    "for label, content in df_train.items():\n",
    "    if pd.api.types.is_string_dtype(content):\n",
    "        df_train[label] = content.astype(\"category\").cat.as_ordered()\n",
    "import warnings\n",
    "warnings.filterwarnings('ignore')"
   ]
  },
  {
   "cell_type": "code",
   "execution_count": 73,
   "id": "3ca6dabc",
   "metadata": {},
   "outputs": [
    {
     "name": "stdout",
     "output_type": "stream",
     "text": [
      "<class 'pandas.core.frame.DataFrame'>\n",
      "Int64Index: 291408 entries, 0 to 293050\n",
      "Data columns (total 18 columns):\n",
      " #   Column                 Non-Null Count   Dtype   \n",
      "---  ------                 --------------   -----   \n",
      " 0   date                   291408 non-null  category\n",
      " 1   registration_type      291408 non-null  int64   \n",
      " 2   played_t11_before      291408 non-null  int64   \n",
      " 3   registration_channel   291408 non-null  int64   \n",
      " 4   network_type           291408 non-null  int64   \n",
      " 5   device_tier            291408 non-null  int64   \n",
      " 6   device_type            291408 non-null  int64   \n",
      " 7   device_manufacturer    291408 non-null  int64   \n",
      " 8   screen_dpi             291408 non-null  float64 \n",
      " 9   device_memory_size_mb  291408 non-null  float64 \n",
      " 10  device_model           291408 non-null  category\n",
      " 11  os_version             291408 non-null  category\n",
      " 12  registrations          291408 non-null  int64   \n",
      " 13  returned               291408 non-null  int64   \n",
      " 14  month                  291408 non-null  int64   \n",
      " 15  day_of_week            291408 non-null  int64   \n",
      " 16  day_of_month           291408 non-null  int64   \n",
      " 17  part_of_month          291408 non-null  int64   \n",
      "dtypes: category(3), float64(2), int64(13)\n",
      "memory usage: 36.8 MB\n"
     ]
    }
   ],
   "source": [
    "df_train.info()"
   ]
  },
  {
   "cell_type": "code",
   "execution_count": 74,
   "id": "cbd65fc6",
   "metadata": {
    "scrolled": true
   },
   "outputs": [],
   "source": [
    "df_train[\"device_model\"] = df_train.device_model.cat.codes\n",
    "df_train[\"os_version\"] = df_train.os_version.cat.codes\n",
    "df_train[\"date\"] = df_train.date.cat.codes"
   ]
  },
  {
   "cell_type": "code",
   "execution_count": 75,
   "id": "f167e205",
   "metadata": {},
   "outputs": [
    {
     "name": "stdout",
     "output_type": "stream",
     "text": [
      "<class 'pandas.core.frame.DataFrame'>\n",
      "Int64Index: 291408 entries, 0 to 293050\n",
      "Data columns (total 18 columns):\n",
      " #   Column                 Non-Null Count   Dtype  \n",
      "---  ------                 --------------   -----  \n",
      " 0   date                   291408 non-null  int8   \n",
      " 1   registration_type      291408 non-null  int64  \n",
      " 2   played_t11_before      291408 non-null  int64  \n",
      " 3   registration_channel   291408 non-null  int64  \n",
      " 4   network_type           291408 non-null  int64  \n",
      " 5   device_tier            291408 non-null  int64  \n",
      " 6   device_type            291408 non-null  int64  \n",
      " 7   device_manufacturer    291408 non-null  int64  \n",
      " 8   screen_dpi             291408 non-null  float64\n",
      " 9   device_memory_size_mb  291408 non-null  float64\n",
      " 10  device_model           291408 non-null  int16  \n",
      " 11  os_version             291408 non-null  int8   \n",
      " 12  registrations          291408 non-null  int64  \n",
      " 13  returned               291408 non-null  int64  \n",
      " 14  month                  291408 non-null  int64  \n",
      " 15  day_of_week            291408 non-null  int64  \n",
      " 16  day_of_month           291408 non-null  int64  \n",
      " 17  part_of_month          291408 non-null  int64  \n",
      "dtypes: float64(2), int16(1), int64(13), int8(2)\n",
      "memory usage: 36.7 MB\n"
     ]
    }
   ],
   "source": [
    "df_train.info()"
   ]
  },
  {
   "cell_type": "code",
   "execution_count": 76,
   "id": "7dd01703",
   "metadata": {},
   "outputs": [],
   "source": [
    "df_train.to_csv('train_data')"
   ]
  },
  {
   "cell_type": "code",
   "execution_count": 77,
   "id": "b4d624f6",
   "metadata": {},
   "outputs": [
    {
     "data": {
      "text/html": [
       "<div>\n",
       "<style scoped>\n",
       "    .dataframe tbody tr th:only-of-type {\n",
       "        vertical-align: middle;\n",
       "    }\n",
       "\n",
       "    .dataframe tbody tr th {\n",
       "        vertical-align: top;\n",
       "    }\n",
       "\n",
       "    .dataframe thead th {\n",
       "        text-align: right;\n",
       "    }\n",
       "</style>\n",
       "<table border=\"1\" class=\"dataframe\">\n",
       "  <thead>\n",
       "    <tr style=\"text-align: right;\">\n",
       "      <th></th>\n",
       "      <th>date</th>\n",
       "      <th>registration_type</th>\n",
       "      <th>played_t11_before</th>\n",
       "      <th>registration_channel</th>\n",
       "      <th>network_type</th>\n",
       "      <th>device_tier</th>\n",
       "      <th>device_type</th>\n",
       "      <th>device_manufacturer</th>\n",
       "      <th>screen_dpi</th>\n",
       "      <th>device_memory_size_mb</th>\n",
       "      <th>device_model</th>\n",
       "      <th>os_version</th>\n",
       "      <th>registrations</th>\n",
       "      <th>returned</th>\n",
       "      <th>month</th>\n",
       "      <th>day_of_week</th>\n",
       "      <th>day_of_month</th>\n",
       "      <th>part_of_month</th>\n",
       "    </tr>\n",
       "  </thead>\n",
       "  <tbody>\n",
       "    <tr>\n",
       "      <th>date</th>\n",
       "      <td>1.000000</td>\n",
       "      <td>0.013628</td>\n",
       "      <td>-0.014441</td>\n",
       "      <td>0.016554</td>\n",
       "      <td>0.010940</td>\n",
       "      <td>0.025711</td>\n",
       "      <td>-0.015370</td>\n",
       "      <td>0.002274</td>\n",
       "      <td>0.014468</td>\n",
       "      <td>0.044988</td>\n",
       "      <td>0.004049</td>\n",
       "      <td>-0.035308</td>\n",
       "      <td>-0.003299</td>\n",
       "      <td>0.010538</td>\n",
       "      <td>0.943100</td>\n",
       "      <td>-0.031251</td>\n",
       "      <td>0.335526</td>\n",
       "      <td>0.296475</td>\n",
       "    </tr>\n",
       "    <tr>\n",
       "      <th>registration_type</th>\n",
       "      <td>0.013628</td>\n",
       "      <td>1.000000</td>\n",
       "      <td>-0.829896</td>\n",
       "      <td>-0.068293</td>\n",
       "      <td>0.042248</td>\n",
       "      <td>0.090347</td>\n",
       "      <td>-0.060329</td>\n",
       "      <td>-0.011035</td>\n",
       "      <td>0.078896</td>\n",
       "      <td>0.097822</td>\n",
       "      <td>-0.007808</td>\n",
       "      <td>-0.027039</td>\n",
       "      <td>-0.057040</td>\n",
       "      <td>0.179130</td>\n",
       "      <td>0.011367</td>\n",
       "      <td>-0.006708</td>\n",
       "      <td>0.008658</td>\n",
       "      <td>0.009656</td>\n",
       "    </tr>\n",
       "    <tr>\n",
       "      <th>played_t11_before</th>\n",
       "      <td>-0.014441</td>\n",
       "      <td>-0.829896</td>\n",
       "      <td>1.000000</td>\n",
       "      <td>0.084061</td>\n",
       "      <td>0.004660</td>\n",
       "      <td>-0.043714</td>\n",
       "      <td>0.039340</td>\n",
       "      <td>0.011449</td>\n",
       "      <td>-0.058519</td>\n",
       "      <td>-0.067275</td>\n",
       "      <td>0.006788</td>\n",
       "      <td>0.025379</td>\n",
       "      <td>0.104573</td>\n",
       "      <td>-0.090426</td>\n",
       "      <td>-0.011673</td>\n",
       "      <td>0.004817</td>\n",
       "      <td>-0.010305</td>\n",
       "      <td>-0.012855</td>\n",
       "    </tr>\n",
       "    <tr>\n",
       "      <th>registration_channel</th>\n",
       "      <td>0.016554</td>\n",
       "      <td>-0.068293</td>\n",
       "      <td>0.084061</td>\n",
       "      <td>1.000000</td>\n",
       "      <td>0.049032</td>\n",
       "      <td>0.082051</td>\n",
       "      <td>-0.075304</td>\n",
       "      <td>-0.015240</td>\n",
       "      <td>0.063307</td>\n",
       "      <td>0.098599</td>\n",
       "      <td>0.039524</td>\n",
       "      <td>-0.019402</td>\n",
       "      <td>0.090698</td>\n",
       "      <td>0.016922</td>\n",
       "      <td>0.021103</td>\n",
       "      <td>0.005687</td>\n",
       "      <td>-0.009850</td>\n",
       "      <td>-0.013626</td>\n",
       "    </tr>\n",
       "    <tr>\n",
       "      <th>network_type</th>\n",
       "      <td>0.010940</td>\n",
       "      <td>0.042248</td>\n",
       "      <td>0.004660</td>\n",
       "      <td>0.049032</td>\n",
       "      <td>1.000000</td>\n",
       "      <td>0.146385</td>\n",
       "      <td>-0.178021</td>\n",
       "      <td>-0.029931</td>\n",
       "      <td>0.131524</td>\n",
       "      <td>0.110532</td>\n",
       "      <td>0.003501</td>\n",
       "      <td>-0.041857</td>\n",
       "      <td>-0.084153</td>\n",
       "      <td>-0.007164</td>\n",
       "      <td>0.015270</td>\n",
       "      <td>0.002241</td>\n",
       "      <td>-0.010182</td>\n",
       "      <td>-0.014009</td>\n",
       "    </tr>\n",
       "    <tr>\n",
       "      <th>device_tier</th>\n",
       "      <td>0.025711</td>\n",
       "      <td>0.090347</td>\n",
       "      <td>-0.043714</td>\n",
       "      <td>0.082051</td>\n",
       "      <td>0.146385</td>\n",
       "      <td>1.000000</td>\n",
       "      <td>-0.174464</td>\n",
       "      <td>-0.051719</td>\n",
       "      <td>0.431174</td>\n",
       "      <td>0.645358</td>\n",
       "      <td>0.059045</td>\n",
       "      <td>-0.377717</td>\n",
       "      <td>0.052830</td>\n",
       "      <td>0.085616</td>\n",
       "      <td>0.025470</td>\n",
       "      <td>-0.005954</td>\n",
       "      <td>0.004926</td>\n",
       "      <td>0.001515</td>\n",
       "    </tr>\n",
       "    <tr>\n",
       "      <th>device_type</th>\n",
       "      <td>-0.015370</td>\n",
       "      <td>-0.060329</td>\n",
       "      <td>0.039340</td>\n",
       "      <td>-0.075304</td>\n",
       "      <td>-0.178021</td>\n",
       "      <td>-0.174464</td>\n",
       "      <td>1.000000</td>\n",
       "      <td>0.117999</td>\n",
       "      <td>-0.551676</td>\n",
       "      <td>-0.272640</td>\n",
       "      <td>-0.007455</td>\n",
       "      <td>-0.002124</td>\n",
       "      <td>0.008400</td>\n",
       "      <td>-0.041144</td>\n",
       "      <td>-0.018642</td>\n",
       "      <td>0.002286</td>\n",
       "      <td>0.006581</td>\n",
       "      <td>0.010528</td>\n",
       "    </tr>\n",
       "    <tr>\n",
       "      <th>device_manufacturer</th>\n",
       "      <td>0.002274</td>\n",
       "      <td>-0.011035</td>\n",
       "      <td>0.011449</td>\n",
       "      <td>-0.015240</td>\n",
       "      <td>-0.029931</td>\n",
       "      <td>-0.051719</td>\n",
       "      <td>0.117999</td>\n",
       "      <td>1.000000</td>\n",
       "      <td>0.018043</td>\n",
       "      <td>-0.030292</td>\n",
       "      <td>-0.317236</td>\n",
       "      <td>-0.015743</td>\n",
       "      <td>-0.036344</td>\n",
       "      <td>-0.025642</td>\n",
       "      <td>0.001390</td>\n",
       "      <td>0.000814</td>\n",
       "      <td>0.002763</td>\n",
       "      <td>0.004054</td>\n",
       "    </tr>\n",
       "    <tr>\n",
       "      <th>screen_dpi</th>\n",
       "      <td>0.014468</td>\n",
       "      <td>0.078896</td>\n",
       "      <td>-0.058519</td>\n",
       "      <td>0.063307</td>\n",
       "      <td>0.131524</td>\n",
       "      <td>0.431174</td>\n",
       "      <td>-0.551676</td>\n",
       "      <td>0.018043</td>\n",
       "      <td>1.000000</td>\n",
       "      <td>0.483767</td>\n",
       "      <td>-0.250309</td>\n",
       "      <td>-0.064840</td>\n",
       "      <td>0.027461</td>\n",
       "      <td>0.062686</td>\n",
       "      <td>0.017906</td>\n",
       "      <td>-0.002466</td>\n",
       "      <td>-0.007098</td>\n",
       "      <td>-0.009752</td>\n",
       "    </tr>\n",
       "    <tr>\n",
       "      <th>device_memory_size_mb</th>\n",
       "      <td>0.044988</td>\n",
       "      <td>0.097822</td>\n",
       "      <td>-0.067275</td>\n",
       "      <td>0.098599</td>\n",
       "      <td>0.110532</td>\n",
       "      <td>0.645358</td>\n",
       "      <td>-0.272640</td>\n",
       "      <td>-0.030292</td>\n",
       "      <td>0.483767</td>\n",
       "      <td>1.000000</td>\n",
       "      <td>0.022561</td>\n",
       "      <td>-0.346649</td>\n",
       "      <td>-0.004458</td>\n",
       "      <td>0.052757</td>\n",
       "      <td>0.047243</td>\n",
       "      <td>-0.004181</td>\n",
       "      <td>0.001563</td>\n",
       "      <td>-0.003458</td>\n",
       "    </tr>\n",
       "    <tr>\n",
       "      <th>device_model</th>\n",
       "      <td>0.004049</td>\n",
       "      <td>-0.007808</td>\n",
       "      <td>0.006788</td>\n",
       "      <td>0.039524</td>\n",
       "      <td>0.003501</td>\n",
       "      <td>0.059045</td>\n",
       "      <td>-0.007455</td>\n",
       "      <td>-0.317236</td>\n",
       "      <td>-0.250309</td>\n",
       "      <td>0.022561</td>\n",
       "      <td>1.000000</td>\n",
       "      <td>-0.069416</td>\n",
       "      <td>0.033899</td>\n",
       "      <td>0.016153</td>\n",
       "      <td>0.004941</td>\n",
       "      <td>-0.002468</td>\n",
       "      <td>-0.001751</td>\n",
       "      <td>-0.003239</td>\n",
       "    </tr>\n",
       "    <tr>\n",
       "      <th>os_version</th>\n",
       "      <td>-0.035308</td>\n",
       "      <td>-0.027039</td>\n",
       "      <td>0.025379</td>\n",
       "      <td>-0.019402</td>\n",
       "      <td>-0.041857</td>\n",
       "      <td>-0.377717</td>\n",
       "      <td>-0.002124</td>\n",
       "      <td>-0.015743</td>\n",
       "      <td>-0.064840</td>\n",
       "      <td>-0.346649</td>\n",
       "      <td>-0.069416</td>\n",
       "      <td>1.000000</td>\n",
       "      <td>-0.057664</td>\n",
       "      <td>-0.056618</td>\n",
       "      <td>-0.035608</td>\n",
       "      <td>0.002694</td>\n",
       "      <td>-0.005401</td>\n",
       "      <td>-0.001319</td>\n",
       "    </tr>\n",
       "    <tr>\n",
       "      <th>registrations</th>\n",
       "      <td>-0.003299</td>\n",
       "      <td>-0.057040</td>\n",
       "      <td>0.104573</td>\n",
       "      <td>0.090698</td>\n",
       "      <td>-0.084153</td>\n",
       "      <td>0.052830</td>\n",
       "      <td>0.008400</td>\n",
       "      <td>-0.036344</td>\n",
       "      <td>0.027461</td>\n",
       "      <td>-0.004458</td>\n",
       "      <td>0.033899</td>\n",
       "      <td>-0.057664</td>\n",
       "      <td>1.000000</td>\n",
       "      <td>0.559228</td>\n",
       "      <td>-0.007680</td>\n",
       "      <td>-0.002319</td>\n",
       "      <td>0.011626</td>\n",
       "      <td>0.013791</td>\n",
       "    </tr>\n",
       "    <tr>\n",
       "      <th>returned</th>\n",
       "      <td>0.010538</td>\n",
       "      <td>0.179130</td>\n",
       "      <td>-0.090426</td>\n",
       "      <td>0.016922</td>\n",
       "      <td>-0.007164</td>\n",
       "      <td>0.085616</td>\n",
       "      <td>-0.041144</td>\n",
       "      <td>-0.025642</td>\n",
       "      <td>0.062686</td>\n",
       "      <td>0.052757</td>\n",
       "      <td>0.016153</td>\n",
       "      <td>-0.056618</td>\n",
       "      <td>0.559228</td>\n",
       "      <td>1.000000</td>\n",
       "      <td>0.004601</td>\n",
       "      <td>-0.004619</td>\n",
       "      <td>0.018459</td>\n",
       "      <td>0.019987</td>\n",
       "    </tr>\n",
       "    <tr>\n",
       "      <th>month</th>\n",
       "      <td>0.943100</td>\n",
       "      <td>0.011367</td>\n",
       "      <td>-0.011673</td>\n",
       "      <td>0.021103</td>\n",
       "      <td>0.015270</td>\n",
       "      <td>0.025470</td>\n",
       "      <td>-0.018642</td>\n",
       "      <td>0.001390</td>\n",
       "      <td>0.017906</td>\n",
       "      <td>0.047243</td>\n",
       "      <td>0.004941</td>\n",
       "      <td>-0.035608</td>\n",
       "      <td>-0.007680</td>\n",
       "      <td>0.004601</td>\n",
       "      <td>1.000000</td>\n",
       "      <td>-0.035605</td>\n",
       "      <td>0.003327</td>\n",
       "      <td>0.008177</td>\n",
       "    </tr>\n",
       "    <tr>\n",
       "      <th>day_of_week</th>\n",
       "      <td>-0.031251</td>\n",
       "      <td>-0.006708</td>\n",
       "      <td>0.004817</td>\n",
       "      <td>0.005687</td>\n",
       "      <td>0.002241</td>\n",
       "      <td>-0.005954</td>\n",
       "      <td>0.002286</td>\n",
       "      <td>0.000814</td>\n",
       "      <td>-0.002466</td>\n",
       "      <td>-0.004181</td>\n",
       "      <td>-0.002468</td>\n",
       "      <td>0.002694</td>\n",
       "      <td>-0.002319</td>\n",
       "      <td>-0.004619</td>\n",
       "      <td>-0.035605</td>\n",
       "      <td>1.000000</td>\n",
       "      <td>0.008747</td>\n",
       "      <td>0.023554</td>\n",
       "    </tr>\n",
       "    <tr>\n",
       "      <th>day_of_month</th>\n",
       "      <td>0.335526</td>\n",
       "      <td>0.008658</td>\n",
       "      <td>-0.010305</td>\n",
       "      <td>-0.009850</td>\n",
       "      <td>-0.010182</td>\n",
       "      <td>0.004926</td>\n",
       "      <td>0.006581</td>\n",
       "      <td>0.002763</td>\n",
       "      <td>-0.007098</td>\n",
       "      <td>0.001563</td>\n",
       "      <td>-0.001751</td>\n",
       "      <td>-0.005401</td>\n",
       "      <td>0.011626</td>\n",
       "      <td>0.018459</td>\n",
       "      <td>0.003327</td>\n",
       "      <td>0.008747</td>\n",
       "      <td>1.000000</td>\n",
       "      <td>0.868512</td>\n",
       "    </tr>\n",
       "    <tr>\n",
       "      <th>part_of_month</th>\n",
       "      <td>0.296475</td>\n",
       "      <td>0.009656</td>\n",
       "      <td>-0.012855</td>\n",
       "      <td>-0.013626</td>\n",
       "      <td>-0.014009</td>\n",
       "      <td>0.001515</td>\n",
       "      <td>0.010528</td>\n",
       "      <td>0.004054</td>\n",
       "      <td>-0.009752</td>\n",
       "      <td>-0.003458</td>\n",
       "      <td>-0.003239</td>\n",
       "      <td>-0.001319</td>\n",
       "      <td>0.013791</td>\n",
       "      <td>0.019987</td>\n",
       "      <td>0.008177</td>\n",
       "      <td>0.023554</td>\n",
       "      <td>0.868512</td>\n",
       "      <td>1.000000</td>\n",
       "    </tr>\n",
       "  </tbody>\n",
       "</table>\n",
       "</div>"
      ],
      "text/plain": [
       "                           date  registration_type  played_t11_before  \\\n",
       "date                   1.000000           0.013628          -0.014441   \n",
       "registration_type      0.013628           1.000000          -0.829896   \n",
       "played_t11_before     -0.014441          -0.829896           1.000000   \n",
       "registration_channel   0.016554          -0.068293           0.084061   \n",
       "network_type           0.010940           0.042248           0.004660   \n",
       "device_tier            0.025711           0.090347          -0.043714   \n",
       "device_type           -0.015370          -0.060329           0.039340   \n",
       "device_manufacturer    0.002274          -0.011035           0.011449   \n",
       "screen_dpi             0.014468           0.078896          -0.058519   \n",
       "device_memory_size_mb  0.044988           0.097822          -0.067275   \n",
       "device_model           0.004049          -0.007808           0.006788   \n",
       "os_version            -0.035308          -0.027039           0.025379   \n",
       "registrations         -0.003299          -0.057040           0.104573   \n",
       "returned               0.010538           0.179130          -0.090426   \n",
       "month                  0.943100           0.011367          -0.011673   \n",
       "day_of_week           -0.031251          -0.006708           0.004817   \n",
       "day_of_month           0.335526           0.008658          -0.010305   \n",
       "part_of_month          0.296475           0.009656          -0.012855   \n",
       "\n",
       "                       registration_channel  network_type  device_tier  \\\n",
       "date                               0.016554      0.010940     0.025711   \n",
       "registration_type                 -0.068293      0.042248     0.090347   \n",
       "played_t11_before                  0.084061      0.004660    -0.043714   \n",
       "registration_channel               1.000000      0.049032     0.082051   \n",
       "network_type                       0.049032      1.000000     0.146385   \n",
       "device_tier                        0.082051      0.146385     1.000000   \n",
       "device_type                       -0.075304     -0.178021    -0.174464   \n",
       "device_manufacturer               -0.015240     -0.029931    -0.051719   \n",
       "screen_dpi                         0.063307      0.131524     0.431174   \n",
       "device_memory_size_mb              0.098599      0.110532     0.645358   \n",
       "device_model                       0.039524      0.003501     0.059045   \n",
       "os_version                        -0.019402     -0.041857    -0.377717   \n",
       "registrations                      0.090698     -0.084153     0.052830   \n",
       "returned                           0.016922     -0.007164     0.085616   \n",
       "month                              0.021103      0.015270     0.025470   \n",
       "day_of_week                        0.005687      0.002241    -0.005954   \n",
       "day_of_month                      -0.009850     -0.010182     0.004926   \n",
       "part_of_month                     -0.013626     -0.014009     0.001515   \n",
       "\n",
       "                       device_type  device_manufacturer  screen_dpi  \\\n",
       "date                     -0.015370             0.002274    0.014468   \n",
       "registration_type        -0.060329            -0.011035    0.078896   \n",
       "played_t11_before         0.039340             0.011449   -0.058519   \n",
       "registration_channel     -0.075304            -0.015240    0.063307   \n",
       "network_type             -0.178021            -0.029931    0.131524   \n",
       "device_tier              -0.174464            -0.051719    0.431174   \n",
       "device_type               1.000000             0.117999   -0.551676   \n",
       "device_manufacturer       0.117999             1.000000    0.018043   \n",
       "screen_dpi               -0.551676             0.018043    1.000000   \n",
       "device_memory_size_mb    -0.272640            -0.030292    0.483767   \n",
       "device_model             -0.007455            -0.317236   -0.250309   \n",
       "os_version               -0.002124            -0.015743   -0.064840   \n",
       "registrations             0.008400            -0.036344    0.027461   \n",
       "returned                 -0.041144            -0.025642    0.062686   \n",
       "month                    -0.018642             0.001390    0.017906   \n",
       "day_of_week               0.002286             0.000814   -0.002466   \n",
       "day_of_month              0.006581             0.002763   -0.007098   \n",
       "part_of_month             0.010528             0.004054   -0.009752   \n",
       "\n",
       "                       device_memory_size_mb  device_model  os_version  \\\n",
       "date                                0.044988      0.004049   -0.035308   \n",
       "registration_type                   0.097822     -0.007808   -0.027039   \n",
       "played_t11_before                  -0.067275      0.006788    0.025379   \n",
       "registration_channel                0.098599      0.039524   -0.019402   \n",
       "network_type                        0.110532      0.003501   -0.041857   \n",
       "device_tier                         0.645358      0.059045   -0.377717   \n",
       "device_type                        -0.272640     -0.007455   -0.002124   \n",
       "device_manufacturer                -0.030292     -0.317236   -0.015743   \n",
       "screen_dpi                          0.483767     -0.250309   -0.064840   \n",
       "device_memory_size_mb               1.000000      0.022561   -0.346649   \n",
       "device_model                        0.022561      1.000000   -0.069416   \n",
       "os_version                         -0.346649     -0.069416    1.000000   \n",
       "registrations                      -0.004458      0.033899   -0.057664   \n",
       "returned                            0.052757      0.016153   -0.056618   \n",
       "month                               0.047243      0.004941   -0.035608   \n",
       "day_of_week                        -0.004181     -0.002468    0.002694   \n",
       "day_of_month                        0.001563     -0.001751   -0.005401   \n",
       "part_of_month                      -0.003458     -0.003239   -0.001319   \n",
       "\n",
       "                       registrations  returned     month  day_of_week  \\\n",
       "date                       -0.003299  0.010538  0.943100    -0.031251   \n",
       "registration_type          -0.057040  0.179130  0.011367    -0.006708   \n",
       "played_t11_before           0.104573 -0.090426 -0.011673     0.004817   \n",
       "registration_channel        0.090698  0.016922  0.021103     0.005687   \n",
       "network_type               -0.084153 -0.007164  0.015270     0.002241   \n",
       "device_tier                 0.052830  0.085616  0.025470    -0.005954   \n",
       "device_type                 0.008400 -0.041144 -0.018642     0.002286   \n",
       "device_manufacturer        -0.036344 -0.025642  0.001390     0.000814   \n",
       "screen_dpi                  0.027461  0.062686  0.017906    -0.002466   \n",
       "device_memory_size_mb      -0.004458  0.052757  0.047243    -0.004181   \n",
       "device_model                0.033899  0.016153  0.004941    -0.002468   \n",
       "os_version                 -0.057664 -0.056618 -0.035608     0.002694   \n",
       "registrations               1.000000  0.559228 -0.007680    -0.002319   \n",
       "returned                    0.559228  1.000000  0.004601    -0.004619   \n",
       "month                      -0.007680  0.004601  1.000000    -0.035605   \n",
       "day_of_week                -0.002319 -0.004619 -0.035605     1.000000   \n",
       "day_of_month                0.011626  0.018459  0.003327     0.008747   \n",
       "part_of_month               0.013791  0.019987  0.008177     0.023554   \n",
       "\n",
       "                       day_of_month  part_of_month  \n",
       "date                       0.335526       0.296475  \n",
       "registration_type          0.008658       0.009656  \n",
       "played_t11_before         -0.010305      -0.012855  \n",
       "registration_channel      -0.009850      -0.013626  \n",
       "network_type              -0.010182      -0.014009  \n",
       "device_tier                0.004926       0.001515  \n",
       "device_type                0.006581       0.010528  \n",
       "device_manufacturer        0.002763       0.004054  \n",
       "screen_dpi                -0.007098      -0.009752  \n",
       "device_memory_size_mb      0.001563      -0.003458  \n",
       "device_model              -0.001751      -0.003239  \n",
       "os_version                -0.005401      -0.001319  \n",
       "registrations              0.011626       0.013791  \n",
       "returned                   0.018459       0.019987  \n",
       "month                      0.003327       0.008177  \n",
       "day_of_week                0.008747       0.023554  \n",
       "day_of_month               1.000000       0.868512  \n",
       "part_of_month              0.868512       1.000000  "
      ]
     },
     "execution_count": 77,
     "metadata": {},
     "output_type": "execute_result"
    }
   ],
   "source": [
    "df_train.corr()"
   ]
  },
  {
   "cell_type": "code",
   "execution_count": 78,
   "id": "fdd88f64",
   "metadata": {},
   "outputs": [],
   "source": [
    "df_train_corr = df_train.copy()"
   ]
  },
  {
   "cell_type": "code",
   "execution_count": 79,
   "id": "2bc4257a",
   "metadata": {},
   "outputs": [],
   "source": [
    "df_train_corr = df_train_corr.drop(['network_type', 'device_manufacturer', 'part_of_month', 'day_of_month','day_of_week','month','device_model'], axis=1)"
   ]
  },
  {
   "cell_type": "code",
   "execution_count": 80,
   "id": "047b2335",
   "metadata": {},
   "outputs": [],
   "source": [
    "for label, content in df2_train.items():\n",
    "    if pd.api.types.is_string_dtype(content):\n",
    "        df2_train[label] = content.astype(\"category\").cat.as_ordered()\n",
    "\n",
    "df2_train[\"device_model\"] = df2_train.device_model.cat.codes\n",
    "df2_train[\"os_version\"] = df2_train.os_version.cat.codes\n",
    "df2_train[\"date\"] = df2_train.date.cat.codes"
   ]
  },
  {
   "cell_type": "code",
   "execution_count": 81,
   "id": "c92a6fcd",
   "metadata": {},
   "outputs": [],
   "source": [
    "df2_train.to_csv('train_data2')"
   ]
  },
  {
   "cell_type": "code",
   "execution_count": 83,
   "id": "d2ffb509",
   "metadata": {},
   "outputs": [],
   "source": [
    "for label, content in df_train_corr.items():\n",
    "    if pd.api.types.is_string_dtype(content):\n",
    "        df_train_corr[label] = content.astype(\"category\").cat.as_ordered()"
   ]
  },
  {
   "cell_type": "code",
   "execution_count": 85,
   "id": "de10b500",
   "metadata": {},
   "outputs": [
    {
     "name": "stdout",
     "output_type": "stream",
     "text": [
      "<class 'pandas.core.frame.DataFrame'>\n",
      "Int64Index: 291408 entries, 0 to 293050\n",
      "Data columns (total 11 columns):\n",
      " #   Column                 Non-Null Count   Dtype  \n",
      "---  ------                 --------------   -----  \n",
      " 0   date                   291408 non-null  int8   \n",
      " 1   registration_type      291408 non-null  int64  \n",
      " 2   played_t11_before      291408 non-null  int64  \n",
      " 3   registration_channel   291408 non-null  int64  \n",
      " 4   device_tier            291408 non-null  int64  \n",
      " 5   device_type            291408 non-null  int64  \n",
      " 6   screen_dpi             291408 non-null  float64\n",
      " 7   device_memory_size_mb  291408 non-null  float64\n",
      " 8   os_version             291408 non-null  int8   \n",
      " 9   registrations          291408 non-null  int64  \n",
      " 10  returned               291408 non-null  int64  \n",
      "dtypes: float64(2), int64(7), int8(2)\n",
      "memory usage: 22.8 MB\n"
     ]
    }
   ],
   "source": [
    "df_train_corr.info()"
   ]
  },
  {
   "cell_type": "code",
   "execution_count": 86,
   "id": "548a1e8f",
   "metadata": {},
   "outputs": [],
   "source": [
    "#df_train_corr[\"os_version\"] = df_train_corr.os_version.cat.codes\n",
    "#df_train_corr[\"date\"] = df_train_corr.date.cat.codes"
   ]
  },
  {
   "cell_type": "code",
   "execution_count": 87,
   "id": "7cf0a114",
   "metadata": {},
   "outputs": [
    {
     "name": "stdout",
     "output_type": "stream",
     "text": [
      "<class 'pandas.core.frame.DataFrame'>\n",
      "Int64Index: 49034 entries, 293051 to 342331\n",
      "Data columns (total 18 columns):\n",
      " #   Column                 Non-Null Count  Dtype  \n",
      "---  ------                 --------------  -----  \n",
      " 0   date                   49034 non-null  object \n",
      " 1   registration_type      49034 non-null  int64  \n",
      " 2   played_t11_before      49034 non-null  int64  \n",
      " 3   registration_channel   49034 non-null  int64  \n",
      " 4   network_type           49034 non-null  int64  \n",
      " 5   device_tier            49034 non-null  int64  \n",
      " 6   device_type            49034 non-null  int64  \n",
      " 7   device_manufacturer    49034 non-null  int64  \n",
      " 8   screen_dpi             49034 non-null  float64\n",
      " 9   device_memory_size_mb  49034 non-null  float64\n",
      " 10  device_model           49034 non-null  object \n",
      " 11  os_version             49034 non-null  object \n",
      " 12  registrations          49034 non-null  int64  \n",
      " 13  returned               49034 non-null  int64  \n",
      " 14  month                  49034 non-null  int64  \n",
      " 15  day_of_week            49034 non-null  int64  \n",
      " 16  day_of_month           49034 non-null  int64  \n",
      " 17  part_of_month          49034 non-null  int64  \n",
      "dtypes: float64(2), int64(13), object(3)\n",
      "memory usage: 7.1+ MB\n"
     ]
    }
   ],
   "source": [
    "df_test.info()\n",
    "df_test2 = df_test.copy()"
   ]
  },
  {
   "cell_type": "code",
   "execution_count": 88,
   "id": "ecccdfdc",
   "metadata": {},
   "outputs": [],
   "source": [
    "for label, content in df_test.items():\n",
    "    if pd.api.types.is_string_dtype(content):\n",
    "        df_test[label] = content.astype(\"category\").cat.as_ordered()\n",
    "warnings.filterwarnings('ignore')"
   ]
  },
  {
   "cell_type": "code",
   "execution_count": 89,
   "id": "905c4ca3",
   "metadata": {},
   "outputs": [
    {
     "name": "stdout",
     "output_type": "stream",
     "text": [
      "<class 'pandas.core.frame.DataFrame'>\n",
      "Int64Index: 49034 entries, 293051 to 342331\n",
      "Data columns (total 18 columns):\n",
      " #   Column                 Non-Null Count  Dtype   \n",
      "---  ------                 --------------  -----   \n",
      " 0   date                   49034 non-null  category\n",
      " 1   registration_type      49034 non-null  int64   \n",
      " 2   played_t11_before      49034 non-null  int64   \n",
      " 3   registration_channel   49034 non-null  int64   \n",
      " 4   network_type           49034 non-null  int64   \n",
      " 5   device_tier            49034 non-null  int64   \n",
      " 6   device_type            49034 non-null  int64   \n",
      " 7   device_manufacturer    49034 non-null  int64   \n",
      " 8   screen_dpi             49034 non-null  float64 \n",
      " 9   device_memory_size_mb  49034 non-null  float64 \n",
      " 10  device_model           49034 non-null  category\n",
      " 11  os_version             49034 non-null  category\n",
      " 12  registrations          49034 non-null  int64   \n",
      " 13  returned               49034 non-null  int64   \n",
      " 14  month                  49034 non-null  int64   \n",
      " 15  day_of_week            49034 non-null  int64   \n",
      " 16  day_of_month           49034 non-null  int64   \n",
      " 17  part_of_month          49034 non-null  int64   \n",
      "dtypes: category(3), float64(2), int64(13)\n",
      "memory usage: 6.3 MB\n"
     ]
    }
   ],
   "source": [
    "df_test.info()"
   ]
  },
  {
   "cell_type": "code",
   "execution_count": 90,
   "id": "6edd2234",
   "metadata": {},
   "outputs": [],
   "source": [
    "df_test[\"device_model\"] = df_test.device_model.cat.codes\n",
    "df_test[\"os_version\"] = df_test.os_version.cat.codes\n",
    "df_test[\"date\"] = df_test.date.cat.codes"
   ]
  },
  {
   "cell_type": "code",
   "execution_count": 91,
   "id": "9167ae84",
   "metadata": {
    "scrolled": true
   },
   "outputs": [
    {
     "name": "stdout",
     "output_type": "stream",
     "text": [
      "<class 'pandas.core.frame.DataFrame'>\n",
      "Int64Index: 49034 entries, 293051 to 342331\n",
      "Data columns (total 18 columns):\n",
      " #   Column                 Non-Null Count  Dtype  \n",
      "---  ------                 --------------  -----  \n",
      " 0   date                   49034 non-null  int8   \n",
      " 1   registration_type      49034 non-null  int64  \n",
      " 2   played_t11_before      49034 non-null  int64  \n",
      " 3   registration_channel   49034 non-null  int64  \n",
      " 4   network_type           49034 non-null  int64  \n",
      " 5   device_tier            49034 non-null  int64  \n",
      " 6   device_type            49034 non-null  int64  \n",
      " 7   device_manufacturer    49034 non-null  int64  \n",
      " 8   screen_dpi             49034 non-null  float64\n",
      " 9   device_memory_size_mb  49034 non-null  float64\n",
      " 10  device_model           49034 non-null  int16  \n",
      " 11  os_version             49034 non-null  int8   \n",
      " 12  registrations          49034 non-null  int64  \n",
      " 13  returned               49034 non-null  int64  \n",
      " 14  month                  49034 non-null  int64  \n",
      " 15  day_of_week            49034 non-null  int64  \n",
      " 16  day_of_month           49034 non-null  int64  \n",
      " 17  part_of_month          49034 non-null  int64  \n",
      "dtypes: float64(2), int16(1), int64(13), int8(2)\n",
      "memory usage: 6.2 MB\n"
     ]
    }
   ],
   "source": [
    "df_test.info()"
   ]
  },
  {
   "cell_type": "code",
   "execution_count": 92,
   "id": "301d9556",
   "metadata": {},
   "outputs": [],
   "source": [
    "for label, content in df2_test.items():\n",
    "    if pd.api.types.is_string_dtype(content):\n",
    "        df2_test[label] = content.astype(\"category\").cat.as_ordered()\n",
    "warnings.filterwarnings('ignore')\n",
    "\n",
    "df2_test[\"device_model\"] = df2_test.device_model.cat.codes\n",
    "df2_test[\"os_version\"] = df2_test.os_version.cat.codes\n",
    "df2_test[\"date\"] = df2_test.date.cat.codes"
   ]
  },
  {
   "cell_type": "code",
   "execution_count": 93,
   "id": "a0293321",
   "metadata": {},
   "outputs": [],
   "source": [
    "df_test.to_csv(\"test_data\")\n",
    "df2_test.to_csv(\"test_data2\")"
   ]
  },
  {
   "cell_type": "markdown",
   "id": "c41ea4a2",
   "metadata": {},
   "source": [
    "## 5. Model"
   ]
  },
  {
   "cell_type": "code",
   "execution_count": 94,
   "id": "8cfe6094",
   "metadata": {},
   "outputs": [],
   "source": [
    "# Make train and val data (to check model...)\n",
    "X = df_train.drop(\"returned\", axis=1)\n",
    "y = df_train[\"returned\"]\n",
    "from sklearn.model_selection import train_test_split\n",
    "X_train, X_val, y_train, y_val = train_test_split(X,y,test_size= 0.1,shuffle=False)"
   ]
  },
  {
   "cell_type": "code",
   "execution_count": 95,
   "id": "5d668ca9",
   "metadata": {},
   "outputs": [
    {
     "data": {
      "text/plain": [
       "((262267, 17), (262267,), (29141, 17), (29141,))"
      ]
     },
     "execution_count": 95,
     "metadata": {},
     "output_type": "execute_result"
    }
   ],
   "source": [
    "X_train.shape, y_train.shape, X_val.shape, y_val.shape"
   ]
  },
  {
   "cell_type": "code",
   "execution_count": 96,
   "id": "2edae239",
   "metadata": {},
   "outputs": [
    {
     "data": {
      "text/plain": [
       "0.20812093990490432"
      ]
     },
     "execution_count": 96,
     "metadata": {},
     "output_type": "execute_result"
    }
   ],
   "source": [
    "from sklearn.neighbors import KNeighborsRegressor\n",
    "model00 = KNeighborsRegressor(n_neighbors=50)\n",
    "model00.fit(X_train, y_train)\n",
    "model00.score(X_val, y_val)"
   ]
  },
  {
   "cell_type": "code",
   "execution_count": 97,
   "id": "de4b7230",
   "metadata": {},
   "outputs": [
    {
     "data": {
      "text/plain": [
       "0.4447451957126106"
      ]
     },
     "execution_count": 97,
     "metadata": {},
     "output_type": "execute_result"
    }
   ],
   "source": [
    "from sklearn.ensemble import RandomForestRegressor\n",
    "model = RandomForestRegressor(n_estimators=200)\n",
    "model.fit(X_train, y_train)\n",
    "model.score(X_val, y_val)"
   ]
  },
  {
   "cell_type": "code",
   "execution_count": 98,
   "id": "7eed33b0",
   "metadata": {},
   "outputs": [
    {
     "data": {
      "text/plain": [
       "0.44381536096319907"
      ]
     },
     "execution_count": 98,
     "metadata": {},
     "output_type": "execute_result"
    }
   ],
   "source": [
    "# Model df2\n",
    "X2 = df2_train.drop(\"returned\", axis=1)\n",
    "y2 = df2_train[\"returned\"]\n",
    "from sklearn.model_selection import train_test_split\n",
    "X2_train, X2_val, y2_train, y2_val = train_test_split(X2,y2,test_size= 0.1,shuffle=False)\n",
    "\n",
    "X2_train.shape, y2_train.shape, X2_val.shape, y2_val.shape\n",
    "\n",
    "from sklearn.ensemble import RandomForestRegressor\n",
    "model2 = RandomForestRegressor(n_estimators=200)\n",
    "model2.fit(X2_train, y2_train)\n",
    "model2.score(X2_val, y2_val)"
   ]
  },
  {
   "cell_type": "code",
   "execution_count": 99,
   "id": "8ed63c84",
   "metadata": {},
   "outputs": [
    {
     "data": {
      "text/plain": [
       "0.38240249579364927"
      ]
     },
     "execution_count": 99,
     "metadata": {},
     "output_type": "execute_result"
    }
   ],
   "source": [
    "# Model df3\n",
    "X3 = df_train_corr.drop(\"returned\", axis=1)\n",
    "y3 = df_train_corr[\"returned\"]\n",
    "from sklearn.model_selection import train_test_split\n",
    "X3_train, X3_val, y3_train, y3_val = train_test_split(X3,y3,test_size= 0.1,shuffle=False)\n",
    "\n",
    "X3_train.shape, y3_train.shape, X3_val.shape, y3_val.shape\n",
    "\n",
    "from sklearn.ensemble import RandomForestRegressor\n",
    "model3 = RandomForestRegressor(n_estimators=200)\n",
    "model3.fit(X3_train, y3_train)\n",
    "model3.score(X3_val, y3_val)"
   ]
  },
  {
   "cell_type": "markdown",
   "id": "85ef3116",
   "metadata": {},
   "source": [
    "## 6. Experiments\n",
    "        \n",
    "        We have to try different models\n",
    "        Some of them are here: "
   ]
  },
  {
   "cell_type": "markdown",
   "id": "5dbfb25f",
   "metadata": {},
   "source": [
    "https://scikit-learn.org/stable/tutorial/machine_learning_map/index.html"
   ]
  },
  {
   "cell_type": "code",
   "execution_count": 100,
   "id": "82efb6e3",
   "metadata": {},
   "outputs": [
    {
     "data": {
      "text/plain": [
       "0.348388413299364"
      ]
     },
     "execution_count": 100,
     "metadata": {},
     "output_type": "execute_result"
    }
   ],
   "source": [
    "np.random.seed(10)\n",
    "from sklearn import linear_model\n",
    "\n",
    "reg2 = linear_model.Lasso(alpha=0.1)\n",
    "reg2.fit(X2_train, y2_train)\n",
    "reg2.score(X2_val, y2_val)"
   ]
  },
  {
   "cell_type": "code",
   "execution_count": 101,
   "id": "2652af05",
   "metadata": {},
   "outputs": [
    {
     "data": {
      "text/plain": [
       "0.35099542786004034"
      ]
     },
     "execution_count": 101,
     "metadata": {},
     "output_type": "execute_result"
    }
   ],
   "source": [
    "np.random.seed(10)\n",
    "from sklearn import linear_model\n",
    "\n",
    "reg = linear_model.Lasso(alpha=0.1)\n",
    "reg.fit(X_train, y_train)\n",
    "reg.score(X_val, y_val)"
   ]
  },
  {
   "cell_type": "code",
   "execution_count": 102,
   "id": "42138615",
   "metadata": {},
   "outputs": [
    {
     "data": {
      "text/plain": [
       "0.37570602370419814"
      ]
     },
     "execution_count": 102,
     "metadata": {},
     "output_type": "execute_result"
    }
   ],
   "source": [
    "reg3 = linear_model.ElasticNet(alpha=0.1)\n",
    "reg3.fit(X_train, y_train)\n",
    "reg3.score(X_val, y_val)"
   ]
  },
  {
   "cell_type": "code",
   "execution_count": 103,
   "id": "621b9aba",
   "metadata": {},
   "outputs": [
    {
     "data": {
      "text/plain": [
       "0.37314399688781696"
      ]
     },
     "execution_count": 103,
     "metadata": {},
     "output_type": "execute_result"
    }
   ],
   "source": [
    "reg4 = linear_model.ElasticNet(alpha=0.1)\n",
    "reg4.fit(X2_train, y2_train)\n",
    "reg4.score(X2_val, y2_val)"
   ]
  },
  {
   "cell_type": "code",
   "execution_count": 104,
   "id": "2f836cad",
   "metadata": {},
   "outputs": [
    {
     "data": {
      "text/plain": [
       "0.39396543198836"
      ]
     },
     "execution_count": 104,
     "metadata": {},
     "output_type": "execute_result"
    }
   ],
   "source": [
    "reg5 = linear_model.Ridge(alpha=.1)\n",
    "reg5.fit(X_train, y_train)\n",
    "reg5.score(X_val, y_val)"
   ]
  },
  {
   "cell_type": "code",
   "execution_count": 105,
   "id": "bdc84117",
   "metadata": {},
   "outputs": [
    {
     "data": {
      "text/plain": [
       "0.39135448332799594"
      ]
     },
     "execution_count": 105,
     "metadata": {},
     "output_type": "execute_result"
    }
   ],
   "source": [
    "reg6 = linear_model.Ridge(alpha=.1)\n",
    "reg6.fit(X2_train, y2_train)\n",
    "reg6.score(X2_val, y2_val)"
   ]
  },
  {
   "cell_type": "code",
   "execution_count": 106,
   "id": "d1c28d93",
   "metadata": {},
   "outputs": [],
   "source": [
    "#from sklearn import svm\n",
    "#regr=svm.SVR()\n",
    "#regr.fit(X_train, y_train)\n",
    "#regr.score(X_val, y_val) it takes a lot of time"
   ]
  },
  {
   "cell_type": "code",
   "execution_count": 107,
   "id": "2988091e",
   "metadata": {},
   "outputs": [
    {
     "data": {
      "text/plain": [
       "0.4470546298407787"
      ]
     },
     "execution_count": 107,
     "metadata": {},
     "output_type": "execute_result"
    }
   ],
   "source": [
    "# Last model I will try\n",
    "X = df_train.drop(\"returned\", axis=1)\n",
    "y = df_train[\"returned\"]\n",
    "from sklearn.model_selection import train_test_split\n",
    "X_train, X_val, y_train, y_val = train_test_split(X,y,test_size= 0.1,shuffle=False)\n",
    "\n",
    "from sklearn.ensemble import RandomForestRegressor\n",
    "best_model = RandomForestRegressor(n_estimators=1000, max_features='auto', warm_start=True)\n",
    "best_model.fit(X_train, y_train)\n",
    "best_model.score(X_val, y_val)"
   ]
  },
  {
   "cell_type": "markdown",
   "id": "8021d52c",
   "metadata": {},
   "source": [
    "## 3. Evaluation\n",
    "\n",
    "    We're going to evaluate model with RMSE(root-mean-square error). It is the standard deviation of the residuals (prediction errors)"
   ]
  },
  {
   "cell_type": "code",
   "execution_count": 108,
   "id": "8f2e3109",
   "metadata": {},
   "outputs": [],
   "source": [
    "from sklearn.metrics import mean_squared_error\n",
    "\n",
    "ypreds = model.predict(X_val)\n",
    "ypreds2= model2.predict(X2_val)\n",
    "ypreds_reg= reg.predict(X_val)\n",
    "ypreds_reg2= reg2.predict(X2_val)\n",
    "ypreds_reg3= reg3.predict(X_val) \n",
    "ypreds_reg4= reg4.predict(X2_val)\n",
    "ypreds_reg5 = reg5.predict(X_val)\n",
    "ypreds_reg6 = reg6.predict(X2_val)\n",
    "ypreds7= best_model.predict(X_val)\n",
    "ypreds_reg100 = model00.predict(X_val)"
   ]
  },
  {
   "cell_type": "code",
   "execution_count": 109,
   "id": "1afedcd0",
   "metadata": {},
   "outputs": [],
   "source": [
    "from math import sqrt\n",
    "def eval_func(y_val, y_pred):\n",
    "    '''Evaluate model by RMSE'''\n",
    "    rmse = mean_squared_error(y_val, y_pred, squared=False)\n",
    "    return rmse"
   ]
  },
  {
   "cell_type": "code",
   "execution_count": 110,
   "id": "130a4252",
   "metadata": {},
   "outputs": [
    {
     "data": {
      "text/plain": [
       "0.7037709562799984"
      ]
     },
     "execution_count": 110,
     "metadata": {},
     "output_type": "execute_result"
    }
   ],
   "source": [
    "eval_func(y_val, ypreds_reg100)"
   ]
  },
  {
   "cell_type": "code",
   "execution_count": 114,
   "id": "e85a50fe",
   "metadata": {},
   "outputs": [
    {
     "data": {
      "text/plain": [
       "0.5880889559897948"
      ]
     },
     "execution_count": 114,
     "metadata": {},
     "output_type": "execute_result"
    }
   ],
   "source": [
    "eval_func(y_val, ypreds7)"
   ]
  },
  {
   "cell_type": "code",
   "execution_count": 115,
   "id": "42f7dc5b",
   "metadata": {},
   "outputs": [
    {
     "data": {
      "text/plain": [
       "0.6380993736709083"
      ]
     },
     "execution_count": 115,
     "metadata": {},
     "output_type": "execute_result"
    }
   ],
   "source": [
    "eval_func(y2_val, ypreds_reg2)"
   ]
  },
  {
   "cell_type": "markdown",
   "id": "fe500155",
   "metadata": {},
   "source": [
    "## Import test data and predict"
   ]
  },
  {
   "cell_type": "code",
   "execution_count": 116,
   "id": "3bdc0573",
   "metadata": {},
   "outputs": [
    {
     "data": {
      "text/html": [
       "<div>\n",
       "<style scoped>\n",
       "    .dataframe tbody tr th:only-of-type {\n",
       "        vertical-align: middle;\n",
       "    }\n",
       "\n",
       "    .dataframe tbody tr th {\n",
       "        vertical-align: top;\n",
       "    }\n",
       "\n",
       "    .dataframe thead th {\n",
       "        text-align: right;\n",
       "    }\n",
       "</style>\n",
       "<table border=\"1\" class=\"dataframe\">\n",
       "  <thead>\n",
       "    <tr style=\"text-align: right;\">\n",
       "      <th></th>\n",
       "      <th>date</th>\n",
       "      <th>registration_type</th>\n",
       "      <th>played_t11_before</th>\n",
       "      <th>registration_channel</th>\n",
       "      <th>network_type</th>\n",
       "      <th>device_tier</th>\n",
       "      <th>device_type</th>\n",
       "      <th>device_manufacturer</th>\n",
       "      <th>screen_dpi</th>\n",
       "      <th>device_memory_size_mb</th>\n",
       "      <th>device_model</th>\n",
       "      <th>os_version</th>\n",
       "      <th>registrations</th>\n",
       "      <th>returned</th>\n",
       "      <th>month</th>\n",
       "      <th>day_of_week</th>\n",
       "      <th>day_of_month</th>\n",
       "      <th>part_of_month</th>\n",
       "    </tr>\n",
       "  </thead>\n",
       "  <tbody>\n",
       "    <tr>\n",
       "      <th>293051</th>\n",
       "      <td>0</td>\n",
       "      <td>1</td>\n",
       "      <td>2</td>\n",
       "      <td>1</td>\n",
       "      <td>1</td>\n",
       "      <td>2</td>\n",
       "      <td>1</td>\n",
       "      <td>3</td>\n",
       "      <td>480.0</td>\n",
       "      <td>7635.0</td>\n",
       "      <td>613</td>\n",
       "      <td>7</td>\n",
       "      <td>2</td>\n",
       "      <td>0</td>\n",
       "      <td>9</td>\n",
       "      <td>3</td>\n",
       "      <td>1</td>\n",
       "      <td>1</td>\n",
       "    </tr>\n",
       "    <tr>\n",
       "      <th>293052</th>\n",
       "      <td>0</td>\n",
       "      <td>3</td>\n",
       "      <td>0</td>\n",
       "      <td>1</td>\n",
       "      <td>1</td>\n",
       "      <td>4</td>\n",
       "      <td>1</td>\n",
       "      <td>6</td>\n",
       "      <td>440.0</td>\n",
       "      <td>7787.0</td>\n",
       "      <td>1687</td>\n",
       "      <td>7</td>\n",
       "      <td>1</td>\n",
       "      <td>0</td>\n",
       "      <td>9</td>\n",
       "      <td>3</td>\n",
       "      <td>1</td>\n",
       "      <td>1</td>\n",
       "    </tr>\n",
       "    <tr>\n",
       "      <th>293053</th>\n",
       "      <td>0</td>\n",
       "      <td>1</td>\n",
       "      <td>2</td>\n",
       "      <td>2</td>\n",
       "      <td>1</td>\n",
       "      <td>3</td>\n",
       "      <td>1</td>\n",
       "      <td>1</td>\n",
       "      <td>360.0</td>\n",
       "      <td>5527.0</td>\n",
       "      <td>1310</td>\n",
       "      <td>4</td>\n",
       "      <td>1</td>\n",
       "      <td>0</td>\n",
       "      <td>9</td>\n",
       "      <td>3</td>\n",
       "      <td>1</td>\n",
       "      <td>1</td>\n",
       "    </tr>\n",
       "    <tr>\n",
       "      <th>293054</th>\n",
       "      <td>0</td>\n",
       "      <td>1</td>\n",
       "      <td>2</td>\n",
       "      <td>2</td>\n",
       "      <td>3</td>\n",
       "      <td>4</td>\n",
       "      <td>1</td>\n",
       "      <td>2</td>\n",
       "      <td>440.0</td>\n",
       "      <td>3754.0</td>\n",
       "      <td>902</td>\n",
       "      <td>1</td>\n",
       "      <td>1</td>\n",
       "      <td>0</td>\n",
       "      <td>9</td>\n",
       "      <td>3</td>\n",
       "      <td>1</td>\n",
       "      <td>1</td>\n",
       "    </tr>\n",
       "    <tr>\n",
       "      <th>293055</th>\n",
       "      <td>0</td>\n",
       "      <td>1</td>\n",
       "      <td>1</td>\n",
       "      <td>2</td>\n",
       "      <td>1</td>\n",
       "      <td>4</td>\n",
       "      <td>1</td>\n",
       "      <td>2</td>\n",
       "      <td>440.0</td>\n",
       "      <td>5557.0</td>\n",
       "      <td>979</td>\n",
       "      <td>1</td>\n",
       "      <td>2</td>\n",
       "      <td>0</td>\n",
       "      <td>9</td>\n",
       "      <td>3</td>\n",
       "      <td>1</td>\n",
       "      <td>1</td>\n",
       "    </tr>\n",
       "  </tbody>\n",
       "</table>\n",
       "</div>"
      ],
      "text/plain": [
       "        date  registration_type  played_t11_before  registration_channel  \\\n",
       "293051     0                  1                  2                     1   \n",
       "293052     0                  3                  0                     1   \n",
       "293053     0                  1                  2                     2   \n",
       "293054     0                  1                  2                     2   \n",
       "293055     0                  1                  1                     2   \n",
       "\n",
       "        network_type  device_tier  device_type  device_manufacturer  \\\n",
       "293051             1            2            1                    3   \n",
       "293052             1            4            1                    6   \n",
       "293053             1            3            1                    1   \n",
       "293054             3            4            1                    2   \n",
       "293055             1            4            1                    2   \n",
       "\n",
       "        screen_dpi  device_memory_size_mb  device_model  os_version  \\\n",
       "293051       480.0                 7635.0           613           7   \n",
       "293052       440.0                 7787.0          1687           7   \n",
       "293053       360.0                 5527.0          1310           4   \n",
       "293054       440.0                 3754.0           902           1   \n",
       "293055       440.0                 5557.0           979           1   \n",
       "\n",
       "        registrations  returned  month  day_of_week  day_of_month  \\\n",
       "293051              2         0      9            3             1   \n",
       "293052              1         0      9            3             1   \n",
       "293053              1         0      9            3             1   \n",
       "293054              1         0      9            3             1   \n",
       "293055              2         0      9            3             1   \n",
       "\n",
       "        part_of_month  \n",
       "293051              1  \n",
       "293052              1  \n",
       "293053              1  \n",
       "293054              1  \n",
       "293055              1  "
      ]
     },
     "execution_count": 116,
     "metadata": {},
     "output_type": "execute_result"
    }
   ],
   "source": [
    "df_test.head()"
   ]
  },
  {
   "cell_type": "code",
   "execution_count": 117,
   "id": "82711032",
   "metadata": {},
   "outputs": [],
   "source": [
    "# our best model is best_model(rmse = 0.589)\n",
    "X_test = df_test.drop(\"returned\", axis = 1)\n",
    "y_test = best_model.predict(X_test)"
   ]
  },
  {
   "cell_type": "code",
   "execution_count": 118,
   "id": "db7b1927",
   "metadata": {},
   "outputs": [
    {
     "data": {
      "text/plain": [
       "((49034,), (49034, 17))"
      ]
     },
     "execution_count": 118,
     "metadata": {},
     "output_type": "execute_result"
    }
   ],
   "source": [
    "y_test.shape, X_test.shape"
   ]
  },
  {
   "cell_type": "code",
   "execution_count": 119,
   "id": "b1673fee",
   "metadata": {},
   "outputs": [
    {
     "data": {
      "text/plain": [
       "array([1.022, 0.287, 0.255, ..., 0.277, 0.657, 0.626])"
      ]
     },
     "execution_count": 119,
     "metadata": {},
     "output_type": "execute_result"
    }
   ],
   "source": [
    "y_test"
   ]
  },
  {
   "cell_type": "code",
   "execution_count": 120,
   "id": "19cf1a09",
   "metadata": {},
   "outputs": [],
   "source": [
    "test_returned = np.round(y_test)"
   ]
  },
  {
   "cell_type": "code",
   "execution_count": 121,
   "id": "f68b32e3",
   "metadata": {},
   "outputs": [
    {
     "data": {
      "text/plain": [
       "array([1., 0., 0., ..., 0., 1., 1.])"
      ]
     },
     "execution_count": 121,
     "metadata": {},
     "output_type": "execute_result"
    }
   ],
   "source": [
    "test_returned"
   ]
  },
  {
   "cell_type": "code",
   "execution_count": 122,
   "id": "1e2eb161",
   "metadata": {},
   "outputs": [],
   "source": [
    "rd1_data = pd.DataFrame(columns=['date','registrations'])\n",
    "rd1_data['date'] = df_test2.date\n",
    "rd1_data['registrations'] = df_test2.registrations"
   ]
  },
  {
   "cell_type": "code",
   "execution_count": 123,
   "id": "60d06d95",
   "metadata": {},
   "outputs": [],
   "source": [
    "rd1_data['returned'] = test_returned"
   ]
  },
  {
   "cell_type": "code",
   "execution_count": 124,
   "id": "ed22e2d0",
   "metadata": {},
   "outputs": [
    {
     "data": {
      "text/html": [
       "<div>\n",
       "<style scoped>\n",
       "    .dataframe tbody tr th:only-of-type {\n",
       "        vertical-align: middle;\n",
       "    }\n",
       "\n",
       "    .dataframe tbody tr th {\n",
       "        vertical-align: top;\n",
       "    }\n",
       "\n",
       "    .dataframe thead th {\n",
       "        text-align: right;\n",
       "    }\n",
       "</style>\n",
       "<table border=\"1\" class=\"dataframe\">\n",
       "  <thead>\n",
       "    <tr style=\"text-align: right;\">\n",
       "      <th></th>\n",
       "      <th>date</th>\n",
       "      <th>registrations</th>\n",
       "      <th>returned</th>\n",
       "    </tr>\n",
       "  </thead>\n",
       "  <tbody>\n",
       "    <tr>\n",
       "      <th>293051</th>\n",
       "      <td>2022-09-01</td>\n",
       "      <td>2</td>\n",
       "      <td>1.0</td>\n",
       "    </tr>\n",
       "    <tr>\n",
       "      <th>293052</th>\n",
       "      <td>2022-09-01</td>\n",
       "      <td>1</td>\n",
       "      <td>0.0</td>\n",
       "    </tr>\n",
       "    <tr>\n",
       "      <th>293053</th>\n",
       "      <td>2022-09-01</td>\n",
       "      <td>1</td>\n",
       "      <td>0.0</td>\n",
       "    </tr>\n",
       "    <tr>\n",
       "      <th>293054</th>\n",
       "      <td>2022-09-01</td>\n",
       "      <td>1</td>\n",
       "      <td>0.0</td>\n",
       "    </tr>\n",
       "    <tr>\n",
       "      <th>293055</th>\n",
       "      <td>2022-09-01</td>\n",
       "      <td>2</td>\n",
       "      <td>0.0</td>\n",
       "    </tr>\n",
       "  </tbody>\n",
       "</table>\n",
       "</div>"
      ],
      "text/plain": [
       "              date  registrations  returned\n",
       "293051  2022-09-01              2       1.0\n",
       "293052  2022-09-01              1       0.0\n",
       "293053  2022-09-01              1       0.0\n",
       "293054  2022-09-01              1       0.0\n",
       "293055  2022-09-01              2       0.0"
      ]
     },
     "execution_count": 124,
     "metadata": {},
     "output_type": "execute_result"
    }
   ],
   "source": [
    "rd1_data.head()"
   ]
  },
  {
   "cell_type": "code",
   "execution_count": 125,
   "id": "4a2c4aff",
   "metadata": {},
   "outputs": [],
   "source": [
    "rd1_data['date'] = pd.to_datetime(rd1_data['date'])"
   ]
  },
  {
   "cell_type": "code",
   "execution_count": 126,
   "id": "1e5173c1",
   "metadata": {},
   "outputs": [],
   "source": [
    "rd1_data = rd1_data.groupby(pd.Grouper(key='date', axis=0, freq='D')).sum()"
   ]
  },
  {
   "cell_type": "code",
   "execution_count": 127,
   "id": "a0e417c1",
   "metadata": {},
   "outputs": [],
   "source": [
    "# R1day = returned/registrations\n",
    "listica = []\n",
    "for i in range(len(rd1_data)):\n",
    "    s = format((rd1_data.returned[i]/rd1_data.registrations[i])*100,'.3f')\n",
    "    #p = \"{:.3%}\".format(s)\n",
    "    #f = float(p.rstrip(\"%\"))\n",
    "    #format(f, '.4f')\n",
    "    listica.append(s)\n",
    "#rd1_data['retention_d1'] = \"{:.4}\".format(rd1_data.returned/rd1_data.registrations)"
   ]
  },
  {
   "cell_type": "code",
   "execution_count": 128,
   "id": "be2d0595",
   "metadata": {},
   "outputs": [
    {
     "data": {
      "text/plain": [
       "['24.340',\n",
       " '22.895',\n",
       " '23.364',\n",
       " '23.661',\n",
       " '22.660',\n",
       " '21.664',\n",
       " '22.796',\n",
       " '23.217',\n",
       " '21.392',\n",
       " '22.377',\n",
       " '24.244',\n",
       " '24.868',\n",
       " '25.735',\n",
       " '26.152',\n",
       " '25.921']"
      ]
     },
     "execution_count": 128,
     "metadata": {},
     "output_type": "execute_result"
    }
   ],
   "source": [
    "listica"
   ]
  },
  {
   "cell_type": "code",
   "execution_count": 129,
   "id": "a6d02c9e",
   "metadata": {},
   "outputs": [],
   "source": [
    "rd1_data['retention_d1'] = listica"
   ]
  },
  {
   "cell_type": "code",
   "execution_count": 130,
   "id": "5d866590",
   "metadata": {},
   "outputs": [
    {
     "data": {
      "text/html": [
       "<div>\n",
       "<style scoped>\n",
       "    .dataframe tbody tr th:only-of-type {\n",
       "        vertical-align: middle;\n",
       "    }\n",
       "\n",
       "    .dataframe tbody tr th {\n",
       "        vertical-align: top;\n",
       "    }\n",
       "\n",
       "    .dataframe thead th {\n",
       "        text-align: right;\n",
       "    }\n",
       "</style>\n",
       "<table border=\"1\" class=\"dataframe\">\n",
       "  <thead>\n",
       "    <tr style=\"text-align: right;\">\n",
       "      <th></th>\n",
       "      <th>registrations</th>\n",
       "      <th>returned</th>\n",
       "      <th>retention_d1</th>\n",
       "    </tr>\n",
       "    <tr>\n",
       "      <th>date</th>\n",
       "      <th></th>\n",
       "      <th></th>\n",
       "      <th></th>\n",
       "    </tr>\n",
       "  </thead>\n",
       "  <tbody>\n",
       "    <tr>\n",
       "      <th>2022-09-01</th>\n",
       "      <td>5300</td>\n",
       "      <td>1290.0</td>\n",
       "      <td>24.340</td>\n",
       "    </tr>\n",
       "    <tr>\n",
       "      <th>2022-09-02</th>\n",
       "      <td>4940</td>\n",
       "      <td>1131.0</td>\n",
       "      <td>22.895</td>\n",
       "    </tr>\n",
       "    <tr>\n",
       "      <th>2022-09-03</th>\n",
       "      <td>5166</td>\n",
       "      <td>1207.0</td>\n",
       "      <td>23.364</td>\n",
       "    </tr>\n",
       "    <tr>\n",
       "      <th>2022-09-04</th>\n",
       "      <td>5452</td>\n",
       "      <td>1290.0</td>\n",
       "      <td>23.661</td>\n",
       "    </tr>\n",
       "    <tr>\n",
       "      <th>2022-09-05</th>\n",
       "      <td>5481</td>\n",
       "      <td>1242.0</td>\n",
       "      <td>22.660</td>\n",
       "    </tr>\n",
       "    <tr>\n",
       "      <th>2022-09-06</th>\n",
       "      <td>5433</td>\n",
       "      <td>1177.0</td>\n",
       "      <td>21.664</td>\n",
       "    </tr>\n",
       "    <tr>\n",
       "      <th>2022-09-07</th>\n",
       "      <td>5580</td>\n",
       "      <td>1272.0</td>\n",
       "      <td>22.796</td>\n",
       "    </tr>\n",
       "    <tr>\n",
       "      <th>2022-09-08</th>\n",
       "      <td>5091</td>\n",
       "      <td>1182.0</td>\n",
       "      <td>23.217</td>\n",
       "    </tr>\n",
       "    <tr>\n",
       "      <th>2022-09-09</th>\n",
       "      <td>4913</td>\n",
       "      <td>1051.0</td>\n",
       "      <td>21.392</td>\n",
       "    </tr>\n",
       "    <tr>\n",
       "      <th>2022-09-10</th>\n",
       "      <td>4947</td>\n",
       "      <td>1107.0</td>\n",
       "      <td>22.377</td>\n",
       "    </tr>\n",
       "    <tr>\n",
       "      <th>2022-09-11</th>\n",
       "      <td>5321</td>\n",
       "      <td>1290.0</td>\n",
       "      <td>24.244</td>\n",
       "    </tr>\n",
       "    <tr>\n",
       "      <th>2022-09-12</th>\n",
       "      <td>5481</td>\n",
       "      <td>1363.0</td>\n",
       "      <td>24.868</td>\n",
       "    </tr>\n",
       "    <tr>\n",
       "      <th>2022-09-13</th>\n",
       "      <td>4045</td>\n",
       "      <td>1041.0</td>\n",
       "      <td>25.735</td>\n",
       "    </tr>\n",
       "    <tr>\n",
       "      <th>2022-09-14</th>\n",
       "      <td>4210</td>\n",
       "      <td>1101.0</td>\n",
       "      <td>26.152</td>\n",
       "    </tr>\n",
       "    <tr>\n",
       "      <th>2022-09-15</th>\n",
       "      <td>3935</td>\n",
       "      <td>1020.0</td>\n",
       "      <td>25.921</td>\n",
       "    </tr>\n",
       "  </tbody>\n",
       "</table>\n",
       "</div>"
      ],
      "text/plain": [
       "            registrations  returned retention_d1\n",
       "date                                            \n",
       "2022-09-01           5300    1290.0       24.340\n",
       "2022-09-02           4940    1131.0       22.895\n",
       "2022-09-03           5166    1207.0       23.364\n",
       "2022-09-04           5452    1290.0       23.661\n",
       "2022-09-05           5481    1242.0       22.660\n",
       "2022-09-06           5433    1177.0       21.664\n",
       "2022-09-07           5580    1272.0       22.796\n",
       "2022-09-08           5091    1182.0       23.217\n",
       "2022-09-09           4913    1051.0       21.392\n",
       "2022-09-10           4947    1107.0       22.377\n",
       "2022-09-11           5321    1290.0       24.244\n",
       "2022-09-12           5481    1363.0       24.868\n",
       "2022-09-13           4045    1041.0       25.735\n",
       "2022-09-14           4210    1101.0       26.152\n",
       "2022-09-15           3935    1020.0       25.921"
      ]
     },
     "execution_count": 130,
     "metadata": {},
     "output_type": "execute_result"
    }
   ],
   "source": [
    "rd1_data"
   ]
  },
  {
   "cell_type": "code",
   "execution_count": 131,
   "id": "49636fb8",
   "metadata": {},
   "outputs": [],
   "source": [
    "rd1_data.drop('registrations', axis = 1, inplace=True)"
   ]
  },
  {
   "cell_type": "code",
   "execution_count": 132,
   "id": "9c277636",
   "metadata": {},
   "outputs": [],
   "source": [
    "rd1_data.drop('returned', axis = 1, inplace = True)"
   ]
  },
  {
   "cell_type": "code",
   "execution_count": 133,
   "id": "02f993ae",
   "metadata": {},
   "outputs": [
    {
     "data": {
      "text/html": [
       "<div>\n",
       "<style scoped>\n",
       "    .dataframe tbody tr th:only-of-type {\n",
       "        vertical-align: middle;\n",
       "    }\n",
       "\n",
       "    .dataframe tbody tr th {\n",
       "        vertical-align: top;\n",
       "    }\n",
       "\n",
       "    .dataframe thead th {\n",
       "        text-align: right;\n",
       "    }\n",
       "</style>\n",
       "<table border=\"1\" class=\"dataframe\">\n",
       "  <thead>\n",
       "    <tr style=\"text-align: right;\">\n",
       "      <th></th>\n",
       "      <th>retention_d1</th>\n",
       "    </tr>\n",
       "    <tr>\n",
       "      <th>date</th>\n",
       "      <th></th>\n",
       "    </tr>\n",
       "  </thead>\n",
       "  <tbody>\n",
       "    <tr>\n",
       "      <th>2022-09-01</th>\n",
       "      <td>24.340</td>\n",
       "    </tr>\n",
       "    <tr>\n",
       "      <th>2022-09-02</th>\n",
       "      <td>22.895</td>\n",
       "    </tr>\n",
       "    <tr>\n",
       "      <th>2022-09-03</th>\n",
       "      <td>23.364</td>\n",
       "    </tr>\n",
       "    <tr>\n",
       "      <th>2022-09-04</th>\n",
       "      <td>23.661</td>\n",
       "    </tr>\n",
       "    <tr>\n",
       "      <th>2022-09-05</th>\n",
       "      <td>22.660</td>\n",
       "    </tr>\n",
       "    <tr>\n",
       "      <th>2022-09-06</th>\n",
       "      <td>21.664</td>\n",
       "    </tr>\n",
       "    <tr>\n",
       "      <th>2022-09-07</th>\n",
       "      <td>22.796</td>\n",
       "    </tr>\n",
       "    <tr>\n",
       "      <th>2022-09-08</th>\n",
       "      <td>23.217</td>\n",
       "    </tr>\n",
       "    <tr>\n",
       "      <th>2022-09-09</th>\n",
       "      <td>21.392</td>\n",
       "    </tr>\n",
       "    <tr>\n",
       "      <th>2022-09-10</th>\n",
       "      <td>22.377</td>\n",
       "    </tr>\n",
       "    <tr>\n",
       "      <th>2022-09-11</th>\n",
       "      <td>24.244</td>\n",
       "    </tr>\n",
       "    <tr>\n",
       "      <th>2022-09-12</th>\n",
       "      <td>24.868</td>\n",
       "    </tr>\n",
       "    <tr>\n",
       "      <th>2022-09-13</th>\n",
       "      <td>25.735</td>\n",
       "    </tr>\n",
       "    <tr>\n",
       "      <th>2022-09-14</th>\n",
       "      <td>26.152</td>\n",
       "    </tr>\n",
       "    <tr>\n",
       "      <th>2022-09-15</th>\n",
       "      <td>25.921</td>\n",
       "    </tr>\n",
       "  </tbody>\n",
       "</table>\n",
       "</div>"
      ],
      "text/plain": [
       "           retention_d1\n",
       "date                   \n",
       "2022-09-01       24.340\n",
       "2022-09-02       22.895\n",
       "2022-09-03       23.364\n",
       "2022-09-04       23.661\n",
       "2022-09-05       22.660\n",
       "2022-09-06       21.664\n",
       "2022-09-07       22.796\n",
       "2022-09-08       23.217\n",
       "2022-09-09       21.392\n",
       "2022-09-10       22.377\n",
       "2022-09-11       24.244\n",
       "2022-09-12       24.868\n",
       "2022-09-13       25.735\n",
       "2022-09-14       26.152\n",
       "2022-09-15       25.921"
      ]
     },
     "execution_count": 133,
     "metadata": {},
     "output_type": "execute_result"
    }
   ],
   "source": [
    "rd1_data"
   ]
  },
  {
   "cell_type": "markdown",
   "id": "89b22b01",
   "metadata": {},
   "source": [
    "## Export data to csv"
   ]
  },
  {
   "cell_type": "code",
   "execution_count": 134,
   "id": "1391c5f1",
   "metadata": {},
   "outputs": [],
   "source": [
    "rd1_data.to_csv(\"retention_d1_predictions.csv\")"
   ]
  },
  {
   "cell_type": "code",
   "execution_count": null,
   "id": "9f0ac6e2",
   "metadata": {},
   "outputs": [],
   "source": []
  },
  {
   "cell_type": "code",
   "execution_count": null,
   "id": "643bc2b9",
   "metadata": {},
   "outputs": [],
   "source": []
  }
 ],
 "metadata": {
  "kernelspec": {
   "display_name": "Python 3 (ipykernel)",
   "language": "python",
   "name": "python3"
  },
  "language_info": {
   "codemirror_mode": {
    "name": "ipython",
    "version": 3
   },
   "file_extension": ".py",
   "mimetype": "text/x-python",
   "name": "python",
   "nbconvert_exporter": "python",
   "pygments_lexer": "ipython3",
   "version": "3.10.10"
  }
 },
 "nbformat": 4,
 "nbformat_minor": 5
}
